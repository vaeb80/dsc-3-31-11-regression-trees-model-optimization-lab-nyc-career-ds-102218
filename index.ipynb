{
 "cells": [
  {
   "cell_type": "markdown",
   "metadata": {},
   "source": [
    "# Regression Trees and Model Optimization - Lab\n",
    "\n",
    "## Introduction\n",
    "\n",
    "In this final lab, we shall see how to apply regression analysis using CART trees for regression, with some hyper parameter tuning as we saw in the case of classification. For a comparison of predictive capabilities and computational cost, we shall work the \"Boston Housing\" dataset. This will allow us to compare different regression approaches in terms of their accuracy and cost involved. \n",
    "\n",
    "## Objectives\n",
    "You will be able to:\n",
    "- Apply predictive regression analysis with CART trees\n",
    "- Get the data ready for modeling\n",
    "- Tune the key hyper parameters based a various models developed during training \n",
    "- Study the impact of tree pruning on the quality of predictions"
   ]
  },
  {
   "cell_type": "markdown",
   "metadata": {},
   "source": [
    "## Boston Housing Dataset - Again ! \n",
    "\n",
    "The dataset is available in the repo as `boston.csv`. \n",
    "\n",
    "- Load the Dataset and print its head and dimensions"
   ]
  },
  {
   "cell_type": "code",
   "execution_count": null,
   "metadata": {},
   "outputs": [],
   "source": [
    "import pandas as pd\n",
    "import numpy as np"
   ]
  },
  {
   "cell_type": "code",
   "execution_count": 2,
   "metadata": {
    "scrolled": true
   },
   "outputs": [
    {
     "name": "stdout",
     "output_type": "stream",
     "text": [
      "Boston housing dataset has 506 data points with 15 variables each.\n"
     ]
    },
    {
     "data": {
      "text/html": [
       "<div>\n",
       "<style scoped>\n",
       "    .dataframe tbody tr th:only-of-type {\n",
       "        vertical-align: middle;\n",
       "    }\n",
       "\n",
       "    .dataframe tbody tr th {\n",
       "        vertical-align: top;\n",
       "    }\n",
       "\n",
       "    .dataframe thead th {\n",
       "        text-align: right;\n",
       "    }\n",
       "</style>\n",
       "<table border=\"1\" class=\"dataframe\">\n",
       "  <thead>\n",
       "    <tr style=\"text-align: right;\">\n",
       "      <th></th>\n",
       "      <th>Unnamed: 0</th>\n",
       "      <th>crim</th>\n",
       "      <th>zn</th>\n",
       "      <th>indus</th>\n",
       "      <th>chas</th>\n",
       "      <th>nox</th>\n",
       "      <th>rm</th>\n",
       "      <th>age</th>\n",
       "      <th>dis</th>\n",
       "      <th>rad</th>\n",
       "      <th>tax</th>\n",
       "      <th>ptratio</th>\n",
       "      <th>black</th>\n",
       "      <th>lstat</th>\n",
       "      <th>medv</th>\n",
       "    </tr>\n",
       "  </thead>\n",
       "  <tbody>\n",
       "    <tr>\n",
       "      <th>0</th>\n",
       "      <td>1</td>\n",
       "      <td>0.00632</td>\n",
       "      <td>18.0</td>\n",
       "      <td>2.31</td>\n",
       "      <td>0</td>\n",
       "      <td>0.538</td>\n",
       "      <td>6.575</td>\n",
       "      <td>65.2</td>\n",
       "      <td>4.0900</td>\n",
       "      <td>1</td>\n",
       "      <td>296</td>\n",
       "      <td>15.3</td>\n",
       "      <td>396.90</td>\n",
       "      <td>4.98</td>\n",
       "      <td>24.0</td>\n",
       "    </tr>\n",
       "    <tr>\n",
       "      <th>1</th>\n",
       "      <td>2</td>\n",
       "      <td>0.02731</td>\n",
       "      <td>0.0</td>\n",
       "      <td>7.07</td>\n",
       "      <td>0</td>\n",
       "      <td>0.469</td>\n",
       "      <td>6.421</td>\n",
       "      <td>78.9</td>\n",
       "      <td>4.9671</td>\n",
       "      <td>2</td>\n",
       "      <td>242</td>\n",
       "      <td>17.8</td>\n",
       "      <td>396.90</td>\n",
       "      <td>9.14</td>\n",
       "      <td>21.6</td>\n",
       "    </tr>\n",
       "    <tr>\n",
       "      <th>2</th>\n",
       "      <td>3</td>\n",
       "      <td>0.02729</td>\n",
       "      <td>0.0</td>\n",
       "      <td>7.07</td>\n",
       "      <td>0</td>\n",
       "      <td>0.469</td>\n",
       "      <td>7.185</td>\n",
       "      <td>61.1</td>\n",
       "      <td>4.9671</td>\n",
       "      <td>2</td>\n",
       "      <td>242</td>\n",
       "      <td>17.8</td>\n",
       "      <td>392.83</td>\n",
       "      <td>4.03</td>\n",
       "      <td>34.7</td>\n",
       "    </tr>\n",
       "    <tr>\n",
       "      <th>3</th>\n",
       "      <td>4</td>\n",
       "      <td>0.03237</td>\n",
       "      <td>0.0</td>\n",
       "      <td>2.18</td>\n",
       "      <td>0</td>\n",
       "      <td>0.458</td>\n",
       "      <td>6.998</td>\n",
       "      <td>45.8</td>\n",
       "      <td>6.0622</td>\n",
       "      <td>3</td>\n",
       "      <td>222</td>\n",
       "      <td>18.7</td>\n",
       "      <td>394.63</td>\n",
       "      <td>2.94</td>\n",
       "      <td>33.4</td>\n",
       "    </tr>\n",
       "    <tr>\n",
       "      <th>4</th>\n",
       "      <td>5</td>\n",
       "      <td>0.06905</td>\n",
       "      <td>0.0</td>\n",
       "      <td>2.18</td>\n",
       "      <td>0</td>\n",
       "      <td>0.458</td>\n",
       "      <td>7.147</td>\n",
       "      <td>54.2</td>\n",
       "      <td>6.0622</td>\n",
       "      <td>3</td>\n",
       "      <td>222</td>\n",
       "      <td>18.7</td>\n",
       "      <td>396.90</td>\n",
       "      <td>5.33</td>\n",
       "      <td>36.2</td>\n",
       "    </tr>\n",
       "  </tbody>\n",
       "</table>\n",
       "</div>"
      ],
      "text/plain": [
       "   Unnamed: 0     crim    zn  indus  chas    nox     rm   age     dis  rad  \\\n",
       "0           1  0.00632  18.0   2.31     0  0.538  6.575  65.2  4.0900    1   \n",
       "1           2  0.02731   0.0   7.07     0  0.469  6.421  78.9  4.9671    2   \n",
       "2           3  0.02729   0.0   7.07     0  0.469  7.185  61.1  4.9671    2   \n",
       "3           4  0.03237   0.0   2.18     0  0.458  6.998  45.8  6.0622    3   \n",
       "4           5  0.06905   0.0   2.18     0  0.458  7.147  54.2  6.0622    3   \n",
       "\n",
       "   tax  ptratio   black  lstat  medv  \n",
       "0  296     15.3  396.90   4.98  24.0  \n",
       "1  242     17.8  396.90   9.14  21.6  \n",
       "2  242     17.8  392.83   4.03  34.7  \n",
       "3  222     18.7  394.63   2.94  33.4  \n",
       "4  222     18.7  396.90   5.33  36.2  "
      ]
     },
     "execution_count": 2,
     "metadata": {},
     "output_type": "execute_result"
    }
   ],
   "source": [
    "# Your code here "
   ]
  },
  {
   "cell_type": "markdown",
   "metadata": {},
   "source": [
    "## Identify Features and Target Data\n",
    "In this lab, we shall use three features from the Boston housing dataset: `'RM'`, `'LSTAT'`, and `'PTRATIO'`. For each data point:\n",
    "\n",
    "#### Features\n",
    "- `'RM'` is the average number of rooms among homes in the neighborhood.\n",
    "- `'LSTAT'` is the percentage of homeowners in the neighborhood considered \"lower class\" (working poor).\n",
    "- `'PTRATIO'` is the ratio of students to teachers in primary and secondary schools in the neighborhood.\n",
    "\n",
    "#### Target\n",
    "- `MEDV`' has been multiplicatively scaled to account for 35 years of market inflation.\n",
    "\n",
    "\n",
    "- Create dataframes for features and target as shown above. \n",
    "- Inspect the contents for validity "
   ]
  },
  {
   "cell_type": "code",
   "execution_count": 5,
   "metadata": {},
   "outputs": [
    {
     "name": "stdout",
     "output_type": "stream",
     "text": [
      "count    506.000000\n",
      "mean      22.532806\n",
      "std        9.197104\n",
      "min        5.000000\n",
      "25%       17.025000\n",
      "50%       21.200000\n",
      "75%       25.000000\n",
      "max       50.000000\n",
      "Name: medv, dtype: float64\n"
     ]
    },
    {
     "data": {
      "text/html": [
       "<div>\n",
       "<style scoped>\n",
       "    .dataframe tbody tr th:only-of-type {\n",
       "        vertical-align: middle;\n",
       "    }\n",
       "\n",
       "    .dataframe tbody tr th {\n",
       "        vertical-align: top;\n",
       "    }\n",
       "\n",
       "    .dataframe thead th {\n",
       "        text-align: right;\n",
       "    }\n",
       "</style>\n",
       "<table border=\"1\" class=\"dataframe\">\n",
       "  <thead>\n",
       "    <tr style=\"text-align: right;\">\n",
       "      <th></th>\n",
       "      <th>rm</th>\n",
       "      <th>lstat</th>\n",
       "      <th>ptratio</th>\n",
       "    </tr>\n",
       "  </thead>\n",
       "  <tbody>\n",
       "    <tr>\n",
       "      <th>0</th>\n",
       "      <td>6.575</td>\n",
       "      <td>4.98</td>\n",
       "      <td>15.3</td>\n",
       "    </tr>\n",
       "    <tr>\n",
       "      <th>1</th>\n",
       "      <td>6.421</td>\n",
       "      <td>9.14</td>\n",
       "      <td>17.8</td>\n",
       "    </tr>\n",
       "    <tr>\n",
       "      <th>2</th>\n",
       "      <td>7.185</td>\n",
       "      <td>4.03</td>\n",
       "      <td>17.8</td>\n",
       "    </tr>\n",
       "    <tr>\n",
       "      <th>3</th>\n",
       "      <td>6.998</td>\n",
       "      <td>2.94</td>\n",
       "      <td>18.7</td>\n",
       "    </tr>\n",
       "    <tr>\n",
       "      <th>4</th>\n",
       "      <td>7.147</td>\n",
       "      <td>5.33</td>\n",
       "      <td>18.7</td>\n",
       "    </tr>\n",
       "  </tbody>\n",
       "</table>\n",
       "</div>"
      ],
      "text/plain": [
       "      rm  lstat  ptratio\n",
       "0  6.575   4.98     15.3\n",
       "1  6.421   9.14     17.8\n",
       "2  7.185   4.03     17.8\n",
       "3  6.998   2.94     18.7\n",
       "4  7.147   5.33     18.7"
      ]
     },
     "execution_count": 5,
     "metadata": {},
     "output_type": "execute_result"
    }
   ],
   "source": [
    "# Your code here "
   ]
  },
  {
   "cell_type": "markdown",
   "metadata": {},
   "source": [
    "## Inspect Correlations \n",
    "\n",
    "- Use scatter plots to show the correlation between chosen features and target variable\n",
    "- Comment on each scatter plot "
   ]
  },
  {
   "cell_type": "code",
   "execution_count": 33,
   "metadata": {},
   "outputs": [
    {
     "data": {
      "image/png": "iVBORw0KGgoAAAANSUhEUgAABZgAAAFgCAYAAAA2IxyjAAAABHNCSVQICAgIfAhkiAAAAAlwSFlzAAALEgAACxIB0t1+/AAAADl0RVh0U29mdHdhcmUAbWF0cGxvdGxpYiB2ZXJzaW9uIDIuMS4yLCBodHRwOi8vbWF0cGxvdGxpYi5vcmcvNQv5yAAAIABJREFUeJzs3X+QHGd+3/fPs4PBcZZ34gAnSDmMCJJ3kgCJwZErIkdKKP8AYh/s8MhsyNPR1J2jVCmlcuKKTYpeeymzROBCG+ugZMqx41TsKClVSFHgEdSaFOyAskBFKkSgDHiBY2ARJd/xl4YniRIxpyMwBGZ3n/yx24v50U//7pnumfer6g7c3pment7u5/k+Tz/P9zHWWgEAAAAAAAAAENfUqA8AAAAAAAAAAFBOdDADAAAAAAAAABKhgxkAAAAAAAAAkAgdzAAAAAAAAACAROhgBgAAAAAAAAAkQgczAAAAAAAAACAROpgBAACAiIwxbxlj/tKojwMAAMRnjPlzxpiLoz4OYNzQwQwAAABkxBhzqzHGGmM2xXgPndYAAHQxxvxFY8wfZLAfa4z5fu9na+1vW2t3pt0vgF50MAMTIk5DFwAAAACAIqONCxQHHczAGFsfEfX3jDFfl3TZGPMHxpg5Y8zXjTGXjTG/aIz5XmPMvzHGfMcY82+NMVtGfdwAABSdMeZzxpgzxpg/M8b8kTHmH6//6rfW/20ZYz40xvyoMeYzxpiTxpg/Ncb8iTHmWWNMfX0//5ekHZJeXn/93x3F9wEAYBTW26yPG2P+gzHmkjHm/zTG3Cjp30javl43fmiM2W6MOWiMecEY84wx5s8k/Tfr9fHvGGNaxphvGWP+mTFm8/q+vTr5/Po+HuofGW2M+SFjzG+uv/+CMeb+4Z8FoPzoYAbG38OS7pVUl7Qs6UFJf1nSD0q6T2sV989K+m6tlQl/azSHCQBAqfwTSf/EWvtdkj4j6fn17X9+/d+6tfbj1trfkWQkHZa0XdIPSbpZ0kFJstb+dUnvSLpv/fX/0/C+AgAAhfBlSQe0Vp/+oKTHJf1VSe+t140ft9a+t/7a/1LSC1pr3z4raUXSo1prz/6opP9c0n8vSdZar06+Y30fR7s/1BhTlfSypFckfY+k/0HSs8YYUmgAMdHBDIy//9la+661tr3+8z+11v6RtbYp6bclvWatXbLWXpX0q5JmRnakAACUR0fS9xtjvtta+6G19rTrhdba/2it/XVr7VVr7fuS/rGkvzC0IwUAoNj+2Xqb9QNJ/0Brg6Rcfsdau2itXbXWtq21Z621p621y9batyT9b4pex94j6eOSFqy116y1JyX9WsjnA/BBBzMw/t7t+/mPuv677fPzx3M/IgAAyu+ntDbK6g1jzL8zxnzB9UJjzPcYY37FGNNcn9L7jNZGWgEAgN4269tam/ET5bUyxvygMebXjDF/uF7H/kNFr2O3S3rXWrva9/mNiO8HsI4OZmD82VEfAAAA48Za+/vW2oe1NqX2H0l6YT1npF+9e3h9+2fXU2p8RWtpMzZ2l/fxAgBQYDd3/fcOSe/JXTf2b/9fJb0h6QfW69ifVW8dG+Q9STcbY7r7xnZIakZ8P4B1dDADAAAAMRljvmKM2bY+6qm1vnlF0vuSViV9uuvln5D0odYW/mtImuvb3R/1vR4AgEnyN40x32eM2aq1DuKjWqsbP2mMuSnkvZ+Q9GeSPjTG7JL03/X9PqiOfU3SZUl/1xhTNcb8Ra2tU/Qryb4GMLnoYAYAAADi+yuSLhhjPtTagn9/zVr7kbX2itbyR55aX5H+HkmHJP2IpG9LOi7pxb59HZb0xPrr/87wvgIAAIXwy1pbaO+b6/97ylr7hqTnJH1zvX50pc34O5J+QtJ3JP1LrXVOdzso6ZfW9/Gl7l9Ya69Jul9rCwr+iaR/Lum/Xv9sADEYa5mRBwAAAAAAgOEyxrwl6b+11v7bUR8LgOQYwQwAAAAAAAAASIQOZgAAAAAAAABAIqTIAAAAAAAAAAAkwghmAAAAAAAAAEAim0Z9AFF893d/t7311ltHfRgAAAQ6e/bsn1hrt436OJKivgUAlAV1LgAA+Yta35aig/nWW2/VmTNnRn0YAAAEMsa8PepjSIP6FgBQFtS5AADkL2p9S4oMAAAAAAAAAEAidDADAAAAAAAAABKhgxkAAAAAAAAAkAgdzAAAAAAAAACAROhgBgAAAAAAAAAkQgczAAAAAAAAACAROpgBAAAAAAAAAInQwQwAAAAAAAAASGRTnjs3xrwl6TuSViQtW2v3GGO2Sjoq6VZJb0n6krX2Up7HAQDAOKO+BQBgOKhzAQAYlGsH87p91to/6fp5XtJvWGsXjDHz6z//vSEcBwpucampIycu6r1WW9vrNc0d2KnZmcaoD2tkhnE+inTO+b7ZHou3/2arrYoxWrFW9VpVxkitKx1tr9d06ydrOv3NS1qxVhVj9PDdN+up2d25HaNrf6M4F43xLGMKU9/GPeeLS0397Itf15XOqu/+6rWqbt/+iUjXq99nSip8+RL0/iKVXQAASQWqc9N6YvF1Pffau876NQtFqMfiHsPd/+DX9Uffubbx8/d+YrNe+/t/eRiHigxkcc0V4brFGu7HcjDW2vx2vvZ0d0935WuMuSjpL1prv2WM+ZSk37TW7gzaz549e+yZM2dyO06M3uJSU4+/+LranZWNbbVqRYcf2D2RhfgwzkeRzjnfN9tj8dt/VF+5Z4eemt2d+TG69vfgXQ0dO9scybnI4+9vjDlrrd2T2Q6jf+5bKkh9G/ecLy419TPPn9NqgnAk6Hr1VKeMZKTOyvUPKFr5EvR+SYUpuwCgSKhz03ti8XU9c/qdge1e/ZqFIsTgcY+hvzPLQ6dWOWRxzRXhusUa7sfRi1rf5p2D2Up6xRhz1hjz0+vbvtda+y1JWv/3e3I+BpTAkRMXBzoG2p0VHTlxcURHNFrDOB9FOud832yPxW//UT332rvOfaQ5Rtf+nnvt3ZGdizErYwpT38Y950dOXEzUuSwFX6+ezqrt6Vx2HUcaae+XoPcXqewCAEgqUJ2bllePRt2eRBHqsbjH4NeZFbQdxZLFNVeE6xZruB/LI+8UGXutte8ZY75H0q8bY96I+sb1yvqnJWnHjh15HR8K4r1WO9b2cTeM81Gkc873Dd6e1f6jWFmf1ZL1Mbret+KYRTOsczFGZUxh6tu45zzP6zXOcaSR9n5J8v4xunYBoGwKU+em5YrDXNuTKEIMXoRjwPBk8ffmmgHiy3UEs7X2vfV//1jSr0r6nKQ/Wp82pPV//9jx3n9hrd1jrd2zbdu2PA8TBbC9Xou1fdwN43wU6ZzzfYO3Z7X/KCrGBO4j6b5d7/M+L6vPibufcSljilTfxj3neV6vcY4jjbT3S9D7i1R2AQCKVeem5YrDXNuTKEI9VoRjwPBk8ffmmgHiy62D2RhzozHmE95/S/q8pP9P0kuSfnL9ZT8p6V/ldQwoj7kDO1WrVnq21aqVjcWZJs0wzkeRzjnfN9tj8dt/VA/ffbNzH2mO0bW/h+++eWTnYlzKmKLVt3HP+dyBnZpK2I4Nul491SmjaqX3A4pWvgS9v0hlFwBMuqLVuWl59WjU7UkUoR6Lewzf+4nNsbajWLK45opw3WIN92N55Jki43sl/apZe/q5SdIvW2v/b2PMv5P0vDHmpyS9I+nHczwGlISXKJ9VWtcM43wU6ZzzfbM9lu79N1ttVYzRirWq16oyRmpd6Wh7vaZbP1nT6W9e8l01POtjDNrfnlu2Dv1cNMarjClUfRv3nHs//+yLX9eVzqrvPuu1qm7f/olI16vfZ3q/K2r5EuX9RSi7AADFqnPT8urR515717d+zUIRYvC4x/Da3//LAwuLsaBYeWRxzRXhusUa7sfyMDbD/Ep5KcIKuwCA/CwuNccigBvVivZZmeT6dlyuQQCYFNS52aD+AwAEiVrf5r3IHwCgAIrceFhcaurxF1/fWKm52Wrr8Rdfl6TCHCOKIa/rmGsQADCJqP/cihw7A0AR5brIHwBg9LzGQ7PVltX1xsPiUnPUhyZpbeqZ17DxtDsrOnLi4oiOCEWU53XMNQgAmETUf/6KHjsDQBExghkAxlxQ4yHPkRhRR36812r7vt+1HZPJdR0/9vx5SelGWnENAgAmEfWfv1HFzsgOI9CB4WMEMwCMuVE0HuKM/Nher/nuw7Udk8l1va5Ym3pUEdcgAGASUf/5o+O93BiBDowGHcwAMOZG0XiIM+Vy7sBO1aqVnm21akVzB3bmdnwon6DrNe10Xq5BAMAkov7zR8d7uZH6BRgNOpgBYMyNovEQZ+TH7ExDhx/YrUa9JiOpUa/p8AO7mcaGHn7Xcbc0o4q4BgEAk4j6zx8d7+XGCHRgNMjBDABjzmskDDMP2fZ6TU2fIM418mN2pjHxjRkE866Px54/rxVrB36fdlQR1yAAYBJR/w0aReyM7MRthwDIBh3MADABht14mDuwU4+/+HrP9DRGfiAt7xrm2gIAAHmi4728aIcAo0EHMwAgc4z8QF64tgAAAOBCrAiMBh3MAIBcMPIDeeHaAgAAgAuxIjB8LPIHAAAAAAAAAEiEEcwAUDKLS02mfGFicf0DAAAgCPEiMHx0MANAiSwuNXsWrWi22nr8xdcliaAJY4/rHwAAAEGIF4HRIEUGAJTIkRMXe1ZElqR2Z0VHTlwc0REBw8P1DwAAgCDEi8Bo0MEMACXyXqsdazswTrj+AQAAEIR4ERgNUmQAQAl4ecSs4/fb67WhHg+QtSi58rbXa2r6NA64/gEAwDCR47e4iBeB0WAEMwAUnJdHzC9QkqRataK5AzuHfFRAdrqvcavrufIWl5o9r5s7sFO1aqVnG9c/AAAYpqhxC0aDeBEYDTqYAaDg/PKIeRr1mg4/sJsREyi1qLnyZmcaOvzAbjXqNRlx/QMAgOEjx2+xES8Co0GKDAAoOFe+MCPp1Pz+4R4MkIM4ufJmZxo0EAAAwMiQ47f4iBeB4aODGQAKLmkeMXLDoSyiXuNc0wAAYNTI8QsAg0iRAQAFlySPGLnhUCZRrnGuaQAAUAT7dm2LtR0AJgEdzABQcEnyiJEbDmUS5RrnmgYAAEXw6hvvx9oOAJOAFBkAUAJx84gVJTccKQ0QVdg17rp2m622bps/zvUFAACGoihxNtxogwDDxwhmABhDrhxww8wNR0oDZCno2uX6AgAAw1KEOBtutEGA0aCDGQDGUJK8zVkjpQGy5HdN9+P6AgAAeStCnA032iDAaJAiAwDGkDcFbJRTw5g+iCz1X9PW8TquLwAAkKcixNlwow0CjAYdzAAwpuLmbc7a9npNTZ9AjumDSKr7mt67cJLrCwAAjMSo42y40QYBRoMUGQAwRItLTe1dOKnb5o9r78LJsc4FxvRBJBH1HuH6AgAACDZJbQ8PMSIwGoxgBoAh8Rac8HKCeQtOSMplBMSoV09m+iDi8rtH5l44r4MvXdC3252ea4jrCwAAwG3YbY+iGFaMOOq2FlA0dDADwJAELTiRR8BThICS6YOIw+8e6axYtdodSYPXMdcXAACAv2G2PYom7xixKG0toEhIkQEAQ+JaWMIvR1harJ6MMoqy+ArXMQAA2ZnEFAqTgsXu8kNbCxhEBzMADIlrYQkjZR7ME1CijG6qVSO9jusYAID0vFGYzVZbVtdHYdLJPB5cbQ8Wu0uPthYwiA5mABiSuQM7ZXy2W0mPPX8+05EjBJQoI+N3g/go0nXMyC8AQFkxCnO8sdhdfmhrAYPoYAaAIZmdacg6frdibaYjRwgoUUatK53Q1xTpOmbkFwCgzFxp2vJI34bhm51p6PADu9Wo12QkNeo1HX5gNzmCM0BbCxjEIn8AMESNei00aM9i8Y1hrZ4chtWVEcf2kPujYowevKs4C/tN8uI5AIDyqxijFTs4/KESdUoRCo8FkfNRlLZWXLTNkCc6mAFgiOYO7OxZcdgli/xdow4oWV0ZcYXdHyvW6tjZpvbcsrUQ1xD59wAAZebXuRy0HcB1o25rxUXbDHkjRQYADFH/VDXXCJFxyN9FXj/EFeX+KNI1RP49AECZNRz1lWs7gPKibYa80cEMAEM2O9PQqfn9enPhXv38l+4IzN9V5gXEGN2JtFwjqIpyDZF/DwBQZtRjbmWOwQE/tM2QN1JkAMAIBeXvKvs0Jlc+XUZ3wqX/mncpyjVU1vx7AABI1GMuZY/BAT+0zZA3OpgBYMRc+bvKvoCYXz5dRsUgiN81369o11DZ8u8BANCNemxQ2WNwwA9tM+SNDmYAKKiyT2NiVAziCrq2jcQ1BAAAclf2GBzwQ9sMeaODGQAKahymMblGxSwuNQluJpjr7++65hv1mk7N7x/BkQIAgEkzDjH4pKOt4Y8ZC8gTi/wBQEGN68IrXl67Zqstq+t57Vg8ZTIE/f3H9ZoHAADlQTxSbrQ1gNGggxnAWBqHlZ9nZxo6/MBuNeo1Ga2N4jz8wO7SP3UOymuH8ReW1zDNNT8O9z0AABit2ZmGHryroYoxkqSKMXrwLkZ+lgVtDWA0SJEBYOyM08rP4ziNibx2ky3s75/0mh+n+x4AAIzO4lJTx842tWKtJGnFWh0729SeW7YSU5QAbQ1gNBjBDGDs8NS62Fz568hrNxny+vtz3wMAgCwQU5QbbQ1gNOhgBjB2eGpdbOS1m2x5/f257wEAQBaIKcqNtgYwGnQwAxg7PLUutnHNLY1o8vr7c98DAIAsEFOUG20NYDTIwQxg7Mwd2NmTi1XiqXXRjGNuaUSXx9+f+x4AAGSBmKL8aGsAw0cHM4Cx4wUTR05c1HuttrbXa5o7sJMgAxhj3PcAACALxBQAEF/uHczGmIqkM5Ka1tovGGNuk/QrkrZK+veS/rq19lrexwFgsvDUGpOG+pb7HgAwHNS544+YAgDiGUYO5r8t6fe6fv5Hkp621v6ApEuSfmoIxwAAwLijvgUAYDiocwEA6JJrB7Mx5vsk3Svpf1//2UjaL+mF9Zf8kqTZPI8BACbF4lJTexdO6rb549q7cFKLS81RHxKGhPq2GLgHAWD8UecCk4G4Dogn7xQZvyDp70r6xPrPn5TUstYur//8B5KYdwIAKS0uNXsWI2m22nr8xdcliel9k4H6dsS4BwFgYlDnAmOOuA6IL7cRzMaYL0j6Y2vt2e7NPi+1jvf/tDHmjDHmzPvvv5/LMQLAuDhy4mLPSteS1O6s6MiJiyM6IgwL9W0xcA8CwPijzgUmA3EdEF+eKTL2SrrfGPOW1hY82K+1p711Y4w3cvr7JL3n92Zr7b+w1u6x1u7Ztm1bjocJAOX3XqsdazvGCvVtAXAPAsBEoM4FJgBxHRBfbh3M1trHrbXfZ629VdJfk3TSWvtlSa9K+uL6y35S0r/K6xgAYFJsr9dibcf4oL4tBu5BABh/1LnAZCCuA+LLdZE/h78n6WeMMf9Ra/mqfnEExwAAY2XuwE7VqpWebbVqRXMHdo7oiFAA1LdDxD0IABONOhcYI8R1QHx5L/InSbLW/qak31z/729K+twwPhcAJoW32MSRExf1Xqut7fWa5g7szGwRisWlZm77RnYmrb4t0nWZ9z0IACiWSatzgUkSJa4rUhwKFMFQOpgBAPmbnWnkEtSwijKKqIjXZV73IAAAAIYrKK4rYhwKjNooUmQAAEqEVZRRRFyXAAAAGAXiUGAQHcwAgECsoowi4roEAADAKBCHAoPoYAYABGIVZRQR1yUAAABGgTgUGEQHMwD4WFxqau/CSd02f1x7F05qcak56kMaGVZRRhGFXZfcwwAAAEgqKJakfQQMYpE/AOjDog29oqyiDAxb0HXJPQwAAICkwmJJ2kfAIDqYAaBP0KINkxY0LC41ewKnpx+6c+LOAYar/5oLCtZdq3tzDwMAAEyuOPGknyixpCsOBSYVHcwA0KfJog2SGMmN4fO75ua+dl6HXr6g1pVO5AYCC68AAABMpizaMJMUS6btjAc85GAGMNbi5mFdXGrKOH43aYs2BD25B/Lgd811Vq0uXenI6noDIew+dt2rU8aQixkAAGCMZdGGmZRF/LzO+GarHSvWBvzQwQxgLC0uNTXz1Vf0yNFzsSrMIycuyvpsN9LELdowSU/uUQxRrq0oDQS/hVckacVaPXr0nJ5YfD3xMQIAACTBAsTDkUUbZt+ubbG2lxUDipAlOpgBjB3vSeylK52B34VVmK7Aw2ry0kJMypN7FEfUayusgTA709DhB3arYgbnI1hJz55+h0YdAAAYGkaKDk8WbZhX33g/1vayYkARskQHM4Cx4/cktltQhekKPBoT2KnqNwq0Vq1M3EhuDI9r5HG/KA2E2ZmGVq3ffIS1TmZGZgAAgGFhpOjwZNGGmZSOVwYUIUt0MAMYO2EVf1CF6ReQVCtGl68uT9x0Nm8UaKNek9FaJ/vhB3ZP3EhuDE//NVevVVWt9I5CjtNACLrXh9lAYEosAKCoqKOGY1I6LIsgizbMpHS8MqAIWdo06gMAgKxtr9fUdARrYRWmF3gcOXFRzVZbxkidFatWey3dRpJViMtsdqYxEd8ToxW0enWala3nDuzUo0fP+eZVH1YDIYuVzAEAyAN11PC42ifj1mFZFGnbMHMHdvbcG9J4drx2t32TxNpANzqYgQmRppOmbPwCAmltNOTB+2+P9L0vX12WJPnNsG93VvTI0XM6cuLiWJ9HYBjCGrdpGgizMw2defsDPXv6nYFO5stXl7W41Ey07zjladCU2CifPUllNwBguNLWUYhu365teub0O77bUTxeDPnca+9qxVpVjNGDd2U78CZJjJdHXMiAImSFDmZgAkza6IQ0T2L7z1WQ/vNIRxAQX96N26dmd2vPLVt16OULPQt/ttqdROVg1PLUKw9csymiTImdtLIbADBcpG0YnklZNG5cLC41dexsUyvro41WrNWxs03tuWVrJjFYkhiPuBBFRw5mYAJM4qISszMNnZrfrzcX7tWp+f2RK92wBQL7eeeRlaGBZIbRuJ2daWh68+Az9STlYJTytLs8cIkyJXYSy24AwPDUp6uxtiM5OvPLJe8YLMn+iQtRdHQwAxOAgCa6JOfkvVabCh9IaFiLqGRVDkbZT9iDqqg5/Ci7AQB58ksFF7QdyU3KonHjIu8YLMn+iQtRdHQwAxOAgCa6JOdke71GhQ8kNKzVq7MqB6PsJ+i+j7OSOWU3ACBP3253Ym1HcsOKd5CNvGOwJPsnLkTR0cEMTIBJDmgWl5rau3BSt80f196Fk6EpK/zOlSRtma7qK/fsGPid0driHFT4QDKzMw0dfmC3GvWajOJ1wPbrvt9nvvqK7jz0ysa9v2/XtkzKwSjlqeu+b9RrsVL2THLZDQDIH/FrcnHbGFnGO8ifXwxWrRhdvroc+W8ed/9hMR5xIYqORf6ACZBm0buiibOQXpKFEKKcq2dPvyNv5qCVdOxsUw/e1dCxs82eafF5VvgsKIhxksXq1f33e/eCfs1WW0d/91099Lmb9eob7yda/LP7fnvwrkbgfuYO7BxYLDRJeTBOZTcAoHiyqq8mzeJSU3MvnFdnZa1F0Gy1NffCeUnBi61lEe9gOPpjsPp0VR9+tKzW+uj+tAvsRY3x4sagwCgZW4IES3v27LFnzpwZ9WEAGLH+DiRpLQh2Pf3fu3DSd5EtbxRhEkH7nDuwcygdQXHPA4bHGHPWWrtn1MeRVJnrW9e92a1eq+rck5+Ptd+k9xsPgQAgX9S52aC+im/mq6/0PMj2bJmuaunn4sUZKIc82pVhaPOhKKLWt4xgBlAaQQvp+VWyrjyozVZbt80fjxRE9wfdrg6s91rtoY1KiHsegFEZZqM1Sr7zVrsT+5iS3m+MUgIAlAH1VXx+nctB2z105kdTxPOUxXo7w4pBgVGhgxlAacSt2OvTVWegZxU+tclv+pvLTbVq0KFnigUFUQZJUtTE2Xd/gB50v3eLe0zcbwCAoipiRxz85RkXjZMinafu+2vKGK34zP6Pmq88yfciBkXZsMgfgNKIuxBJlAxA3lNgP4devrDRuRzm8rXlVAs9xMGCLCiDoFEXaXgBerPV7nlQdLXvs/xMGcU+pvq0/8Mj13YAAIbBVR8OKx6dZHXHwBLXdim/uGjcFOU89d9ffp3LcfKVJ/letPlQNnQwAyiNuCvnfrsdPppRcj8FjjIa0tNZsUMLfFhBGGWQ16gLV4B+pbMa+L5qxWjV8bwo6JhcD6pKsIQFAGCMFaUjbhIdvP92VadMz7bqlNHB+293vofRqNEU5Tz53V+SVDFGRmu5l+PkQk7yvWjzoWxIkQGgNKKutusJypnc/7osDCvwiXsegFFw3X9p77ck91n3Ipxxj8n1oCrqAywAAPJQlI64SZQkFs8rLho3RTlPrvto1Vq9uXBv7P0l+V60+VA2dDADKJU4C5HMHdg5sPJuv6CnwPVaVS2fTiRj/EcvDjPwYUEWFJ3f/ZfFqAtXgF6vVXV1eTV0pe24x1SUhg4AAN2on0YrbiyeV1w0bopynrK+v5J+L9p8KBNSZAAYW7MzDR1+YLca9drGVKav3LOj5+egqU1+098k6cc+vZXpSkAIv/svzlRCF9d0wYP33x76eUmOqQjTExeXmtq7cFK3zR/X3oWT5NcEAGRWP1HHDEdecdG4Kcp5yjr+K8r3AvJkbAmSCO7Zs8eeOXNm1IcBYAI9sfi6nj39jrpLylq1ogfvaujVN95nuhJ6GGPOWmv3jPo4kipLfdu9qvcw7r9hf17/Z/uNeKFRAmDSUeemr5+oYwC3UcZ/QJFErW9JkQFgIiQNEF594331P4Zrd1b06hvv69T8/lw/G5gkce6TYU4XHPX9G7SIE+UIAEy2tPUhdQzglne8mSTGHHVcCgShgxnA2OsfndFstfX4i69LUmiFHLSASpQKPs1nA5MiyX0yjAC7CPcvizgBAFzS1oXUMcBoJI19Rx2XAkHoYAZQOnGD6YMvXUg8OsO1wEOtOqVHj57bGN3squAZGQKEi3uf+AXYjx49pzNvf6CnZndvvCbpqJBmq62KMVrxSSM27PuXRZwAAH6y6GyijsGkjoh9YvF1Pffau1qxVhVj9PDdN2/EkFGlOXfW3dzUAAAgAElEQVRJ2oi0K1F0dDADKJW4wfTiUlOtdsd3X92jM/w6lhr1mvbt2qZjZ5s9lXl1yuhKZ3Vgf34VvF/QHrQdmERxR1D5BdhW0jOn39Ezp99RvVbV5WvL6qysdRAnGRXi17kcdlwuaRogRVlNHQBQLFl0NlHHTLaijojNu9P7icXX9czpdzZ+XrF24+eoncxpz13U2Lf7XLgiU2YcoCimRn0AABBHUDDter2LNzrDCxC8Tl+vY6nZauvY2aYevKuxseJvvVaN1fFUMcb3da7twCRyjZRybQ8LpFvtzkbnsqe7nFhcamrvwkndNn9cexdObgTv/WVL3OP1012+WF1vgCwuNSO9n1XHAQB+skhvQR1TbH7xSpbitquGIW3cFMVzr70ba7uftOcuSuzbfy7i7gsYNkYwAyiVuMF0UJDtjc4I6ljqXtDPq+RXA2r4/gre1Rkd1EkNTJq4I6hcU3rDeLnT/UacRO1cjjuyK4sRZsNc1BAAUA5ZpbegjimmYYwuLmIO7mGkgciifZb23EWJfaMMfmDGAYqEDmYAuUszzan/vfXpqi5dGUx5EfQU2C/43jJd3TiGsEDA+31YJW+kgQq+4fj8Bk+agQ3evehXTviVH3MHdvbkQI9qe73mbLhE0WABJQBAQZDeYrwNo6O1iDm4hxE3udbZ6J9hGtSGTXvugmJfT9B3NuufNSk5s1EOdDADyFWap+9+761OGVUrpmf6e1Aw7Qq+n7zv9o2fb6pVnXmapeuBQlgl/+V7dgx8J4J/IBq/EVSu8uPwA7v15Xt26NnT70TuZPbuu0ePnot9bLVqJfaUYa9R4jo+pjMCANKI0kGFYgvqwBxGR2sR2ynD6PS+59NbdOobH/hu94S1YbM4d2GzB1znolGv6dT8/sifAwwLOZgB5CpNfiq/93ZWrW7cvClyrriw3HKLS01dvrbsPIbuQMEV2FSM0dMP3em7KAS57YDkgsqPp2Z36+mH7tyYDdCf1bw6ZbRlujpw34U1ULzRK96/Se7Z/rzu/UbdeAMAjIfZmYZOze/Xmwv36tT8fuLLEgnLNRx3fYokithOmTuwU7VqpWdb1nHTW3/qH591bw9rww7j3A3jXABZYgQzgFylefruek2r3dHB+9dGIB85cVGPHj2nIycuOkdtBD0dPnLi4sBiYJ7+6fCuJ9VhwQS57YBwfqN4wsqP7nsraioev/u426q1emvh3kjHF1SuuPafJM0GAAAov+5YYsonTUN3CoxhjS4uWjtlGCPzo7RPo7wm73PHLAWUDR3MAHKVZppT0EJec187LxltdA4nXfjCFTwYaWDqUdJKPk0OamASuKYhutLX+JUfUYJ8714Myrnst++4qX7ilCsAAGD89ccSrgXluh+iS5PZuZhFx21Q+8sVX95Uq278d1HyUxftAQAQhA5mALlK8/Q9aKRhZ3UwKEuy8IUreKhPV7V34eRAUBK3kh/GCtBA2bmmId5QnVKtWhkoP/bt2uZ7fwbpvxf9dJdNcUYZ9StKowQAAIxOWCzhpztWoHMxmcWlpuZeON8zEGnuhfOS1s6p6c+rtq57exHzUwNFRw5mALmanWnowbsaPXlNH7wrWrDk5baKI+7CF365raoVow8/WnbmRAuzuNTU3oWTum3+uB57/nziHNTApHCmw7nS6clvt5ZT2eqZ0+8E3p/d9+DehZOBI5crxgzkzuvPixg2yqgfOfMAAJhsUWOJbsQK2Tj08oWBFIidFatDL1+QtBZf+uneXsT81EDRMYIZQK4Wl5o6dra5EVStWKtjZ5vac8vWyJ3MR05cdKbK6DdljBaXmpErf7/pZ5evLg9Mm4o6Ojru9DcAwSN+vdE71++t1YHXdd+fTyy+rmdPvyPvzvM6oINyLr/Zl3M5LI1G9/H5meRprQAAIHosUTFGq9YSK2TokqMD2dsedaYZI8iBeOhgBpCroBV4o1bYYYtydVuxNnYKiv7g4bb5476vC+oU9kZIRu0IZ6o8cF2UaYhhDbX3Wm0tLjV7Opc9cXMuR3kAFDbKqIiNEvLBAwD6UTfkI2osEWdULH+rbOzbtU3PnH7HdzuA5EiRASBXUVbgDeOl2YgqbQoKV+eva3v3FLgomP4G9IoyDTGszNher+nIiYsDnctBXPei6173S6dRFv1TdeOm/gEAjB/qhvxkHUvwt8rOq2+8H2s7gGgYwQwgV64pSFbS3oWTkZ+8x63w/Tqjoj71j7uoQ5QpcEx/A4KFjfh1lSXSWt50v9Q2QRoJyoCydSp3y2I2SV4YkQUAo1HkuqHsso4l+FtFN2Ukn/XgNbW+iF8WA6CSIN7BuKODGUCugtJbeE/epcF0Fv0VcNTRwZ7+UQP9uZGDPjtu/tSwYKTsHVNAEbjKkunqlDorNlbnspF0an6/8/fjmEN5VI2pMHHKZgBAtlzxddy4G4P8Yol9u7bpyImLevToudixRVHr8SL6ibt3+KbA+Im7d0iKnoM5S8Q7mAR0MAPIVXdw5VeR+z1596uAjeQ79b1eq+rq8mroaOO4T/3j5E8N6gAPGiUJIDpXp2+c3OeeKA2IIuZQTmMUjakoGJEFAKNTMcZ3QeqKMSM4mvHTHUuk7WAsaj1eRE/N7pYkPffau1qxVhVj9PDdN29sjztbNQvEO5gEdDADyJ0XXN02f9y3k7j/ybtfBWylgU7mWrWig/ffvvGeoJGGYU/900xZGsfp9EAR+XX6Pnr0XKx9FCkH+jCnSo6iMRUFI7IAILm09Yhf53LQdiSXtoOxqPV4UT01u3ujQ7nfKGaqEe9gEuTWwWyMuUHSb0n62PrnvGCtfdIYc5ukX5G0VdK/l/TXrbXX8joOAMXhevJ+U63a87OrorVaGxH8Xqutm2pVGaPIU8yCnvqnHVEwjtPpUR6TXt/GSaGTxYyCsMZ81Mb+sKdKFrWcYkQWgDIpUp2bRT3ScJTBDcrgzKXtYCxqPZ6HLB7Ah+1j2DPViHcwCaZy3PdVSfuttXdIulPSXzHG3CPpH0l62lr7A5IuSfqpHI8BQIHMHdip6tTglLvL15Z7VkDu73D21GtVnZrfr6cfulNXl1d16UpnYxXlR46e052HXnGupDx3YKdq1UrPNu+pf9CIgqhmZxo6Nb9fby7cq1Pz+8cy2ENhTXR96ypX+jXqtdT35uJSU3MvnO9ZwX3uhfMb5U6cFd6zKHfiKmI5FVQ2A0ABFabOzaIe2bdrW6ztSM7VkRing7GI9bifxaWm9i6c1G3zx7V34aSzfeZ6b9RYKs99ZI14B5Mgtw5mu+bD9R+r6/+zkvZLemF9+y9Jms3rGAAUgxdkPHr0nO+Uu86K7QmGXWnfvO1+AbUktdqdgeCh+7NvqE6pXqvKaK2zyUthwZQllNmk17ezMw19/IbgCVlZBfCHXr6gzkpvGdZZsTr08gVJ8Rr7RSh30jQAszI709DhB3arUa8NlM0AUDRFqnOzqEdefeP9WNuR3NyBnapWehs51YoZuw7GtJ27WTw4GcVD/DDEO+kUIWZFuFxzMBtjKpLOSvp+Sf+LpG9Iallrl9df8geSfO8oY8xPS/ppSdqxY0eehwlMjGHm++z+zO7pe66Ubt3BcOtKx/c13vagwLk7l9kTi6/r2dPvbORtvnSlo1q1oqcfurPnezNlCWU3zvVtlHLLVWZI0pbpqp687/ZMyrpLjs+5FFI2+W0fdbmTxdTqrOqUcVtQEcB4K0qdm0U9UoSHnROlvx00hqmu0+aazuKazOq6zrrtXIR4ZxT9AWkNO60cksszRYastSvW2jslfZ+kz0n6Ib+XOd77L6y1e6y1e7ZtY4oOkNaopgodevmC72jjft3BcNgUsrDA+b1WW4tLzZ7OZY/f02umLKHsxrW+jVpuBZUJ05s39azgnufohzjTX0dd7qQd3VPE6acAMAxFqXOzqEeySNuAaI6cuKjOat8sqFU70lG1eUjbuZvFNZnFPsYxzinrdyriiHT4y7WD2WOtbUn6TUn3SKobY7yR098n6b1hHAMw6UZRMC8uNZ0j/rr1B8NhAbPf77ttr9d05MRF56CA/gCHKUsYF+NW30Ytt4Ia0979nkVQXQ/ID+8dR9TG/qjLnbQNQIJ9AJNu1HVuFvXIqB92TpJJGS1en3bESo7t/bK4JrPYxzjGOWX9TpNy74yDSCkyjDE3Smpba1eNMT8oaZekf2OtdfYcGWO2SepYa1vGmJqkv6S1xQ9elfRFra2y+5OS/lXK7wAggmEUzP1Tbi5fXQ59j9/09dmZhs68/YGee+1drVirijF68K7rU4q8fw+9fGGgA9sLHh49es75mfXpqvYunByYGkSHMoogbp07zvVtnHLLyH+42JQxG2VTmimbknTw/ts197XzAyOQWu2O9i6c1NyBnTr8wO6BqYeSnGXOqMqdtFOrCfYBlN04tHHT1iPee8s2ZX4U0qYWyCKlSRnSG7jSIbq298vimgxrS0rh53Ic45yyfqdRp5VDdFFzMP+WpD9njNki6TcknZH0kKQvB7znU5J+aT1H1ZSk5621v2aM+Q+SfsUY85SkJUm/mPjoAUSWd8Hslxspio86q777Ona2ubEg4Iq1Ona2qT23bO3pZJ6daTiDgyMnLjqP4cOPljc6psnhhAKKW+eObX0bpdzyyh5Xu2XF2p6yqV+coLq70dNstXs6tb2y5PADu3Vqfv/A8RUtb9zcgZ0D5yXO6B6CfQBjgDauipEXtuiyqMvT1rtFjSf6fbvt/3zGtd1P2msyrC0Z5VyOY5xT1u+U9t7B8ERNkWGstVckPSDpn1pr/ytJPxz0Bmvt1621M9baz1pr/1Nr7VfXt3/TWvs5a+33W2t/3Fp7Nd1XABBFHlPguvOZPvb8+Ui5lvu1Oyt65Oi5nnyocabvzM40dGp+v95cuFen5vdvBAV+39dImq5ODYw+9DsGYIRi1bnjXN9GKbf8yot+7c6Kpoz/76aMiZWT2StzGvVapBzvWU1HzDp/dNqp1UyrBjAGaOMikizq8rT1bpHSGwTFJEXI6x12rqKcy7kDO1Wt9AaP1YoZeZyTJh4sa+w26rRyiC7qCGZjjPlRrT3N/amY7wVQAFlPget/8rsSdd6TQ7PV1qNHz+mRgNQWfiMNXSOYXd83KHVGUUcCYOJQ50o9aS0qxmjFWjViTGHst+oooryyq/v+l8LLyqjTDLOYjpjXqKU0I4SYVg1gDFDfIpKsUgukqXezOoa0aTbCYpIijDYNO1eRz2V/7JiuuZta2njQFbtJ/qncioSZFuUQtQJ9RNLjkn7VWnvBGPNpreWZAlAiWRbMUUYNSms5lqc3b9J7rbam1juJXMLq7P4n32GVrN/3DUqdIcXPyQrkYOLrXL8HWF7jpP/edE33S6LdWdHBly7o6vLqQLly5u0P9Oob728E3/Xpqu8ipv3lVNTpiEENvizyR+eBYB9AyU18fYtoipBaIKsczmkfWIfFJEV4AB12rqKcyyMnLg7Meu2s2p7YK4vO+jjvzyIe7I/dypJ6BeUQKUWGtfb/sdbeL+mfrf/8TWvt38r1yAAUWpSn5bVqRU/ed/tGCouf/9IdqrrmqUfYV/+T74MvXYg9VcxvalC/oi90gPFGnRtvGmiUezqOVrvj+9nPnn5HzVZbVmvB94cfLQ9OnZwyunJtuWfaYpTpiF5w373/x198fWPaY1kXZQGAIqO+RVRFSC2QxTFkkWYjSkziSmE4LGHnKsq5DPueYbFbmMWlpua+dr7n/XNfOx/4/jziwSKlXkH5RepgNsb86PrCBb+3/vMdxph/nuuRASic7pxPU8a/o7hijDM30uxMQx+/If7MQ9fKvy3HYhFBlWx3DieXoi90gPFGnRsvgPbLy/aVe3b0/FyvVVMfU/8Mi86q1Y2bN218Tr1WlYx06Uqnp6EhKTRvnCu4P/TyBe1dOOmc3UFZBQDJUd8iqiLkgM3iGLLooCxCjuUwYecqyrkM+55pO2YPvnTBd4T0wZcu9GyL0v4OOvdhOZsZxIAsRe3p+QVJByS9JEnW2vPGmD+f21EBJZR2ikzRRcm5XKtWQgOdls+U8jD9K/9KCqy8wwIcb2pQ/3eSyrHQAcbexNe5caeB+k33e/WN9zd+/sIdn9LR3313IJDvV6tWdEN1yjf1hZ9vtzs69+TnJa3lrut/6OU1NMJG77iC+EtXOs5jyausGve6DAC6THx9i+iKkBYq7TFkkWajCDmWowg7V2G/D/ueaTtmXQOlurdHbX+7zn2U9BdFSP8SBfFpOUQawSxJ1tp3+zaFJ18FJkTaKTJl4Mq5HDRi2U/Syqr/iXBQ5R01wCnCaATAz6TXuWmmgfqVx8fONgfSWXj6y7An77t94LNdiX26y7M0DY245WJeZdUk1GUA0G3S61tMlizSbExK+ynsew5jJHfa9neUUdb7dm3zfa9r+ygQn5ZH1BHM7xpjfkySNcZslvS3tD6VqCx44oE8FXUBpiy5OklWrdWbC/dG3s/cgZ165Og5399NGcla92J/3cfgetrqmDnkVITRCECf0te5aaVZIMZVHru4yrDuz963a5uOnW0OjGLZt2vbxqrbrkVMozQ0/EbJuJj11x85cVGPHj2XaUwzCXXZMBF7AoU38fUtJktWC/CVof2URR0c9D3TjuTe4lgsesv09bRuadvfUQY/dM/46+baPgqjik+J4+KL2sH8NyT9E0kNSX8g6RVJfzOvg8oaK2Mib5OQuyir6TOzMw1nB7O10psL9+rOQ6/4Thu6qSuP6r5d2/TM6Xd898H9jZIrdZ2blaSNl7jlrl8Z5vfZe27ZGtjpHHfaYv/nSb0NvkuXr+pKZ9Vnn1O5xTSTUJcNC7EnUArUt5g4ZegcTmsYdXDazvon77tdcy+cV2flevxYrRg9ed/tGz+nbX9HeX8ZYj+/7xC0PQvEcclE6mC21v6JpC/nfCy5YUQO8laW3EVS8idxSZ/S+n1eI+R8uUYhd28PeqrK/Y0yK3udO2qu8njLdFUfdVYTjzTpb5DtXTgZOOJ4y3RVT953e+RyqH//dx56xbeDub28qv6+7KzKvDLVZUXhqlOJPYHio77FsBVhRGQRjiFvw6qD03TWR+mgTjtKOsr7if38EcclEykHszHml4wx9a6ftxhj/o/8DitbZXgqg3LLIp/VMATlLwpbYTZJvi3X5+3btS3wfLkWAuzeHnb/cn+jrMpe546aqzx+8r7bN8owaS1/nRcoJsnhFlbGfOTTORzHtx2Lv/gMlI50PFGUpS4riqA6ldgTKD7qWwQJaxsl2d+o88gW4RiGoSx18OxMQ6fm9+vNhXt9F4ROm+86yvuJ/fyV5RoqmqgpMj5rrW15P1hrLxljZnI6pszxVAZ5yyqfVd5cT+IOvnRBV5dXQ6eAxH1K6/q8V994X4cf2O08X1HuWddr/F4LlEyp69xRi1IeZzHlLawMSjvKwbX/Sopcz2HKUpcVRdDoFmJPoBSob+Erj+nxRRgRWYRjGIZxqoPTpjQJe38ZYj9X7FuJu/hSDON0DQ1T1A7mKWPMFmvtJUkyxmyN8d6RSzu1AIiiDPmsXE/c/PIdZxFsJH3y53fPGq0Fd3sXTmruwM7ARbGqU0atK9d06/xxSVK9VtXB+6NPVQdGrNR1bhH0B8veatlBqQsee/6876J5rqmkURbmSzPKwVUOrlgro97FULOMacpQlxVFUB339EN3EnsCxUd9C195dMQWYURkEY5hGOYO7PTNb5y2Dh5GepFRpDDJOvbL+js8fPfNvmsvPXz3zWkOMxB9iMlErUB/XtL/a4x5Yf3nH5f0D/I5pOyV4akMMAxhI+76pQ02XJ9Xn64GjgrovmebrXZPZ0qz1dajR8/py/fs2BgF3Wy1N55s1mtVfefqsi5fu14ZtNodzX3t/Mb+gYIrdZ1bBEEjj1zlmjcyovu1UvhoZ68M8mOljYdiSVYu795/dzlopY2fG8Q0IxM0uoXYEygF6lv4yqMjtggjIotwDEPTP+DVkWIsqmEs+jYOC8vl8R2emt0tSXrutXe1Yq0qxujhu2/e2J6H2ZmGzrz9Qc9nPngXgzDCGOtK5tf/QmN+WNJ+rbVpfsNa+x/yPLBue/bssWfOnBnWxwGJlGHBhP4CX1p7EndDdUqXfPIeN+o1nZrfH/szvPNQn67qw4+W1Vm9Xs7UqhV9bNOU76hpv8/bu3DSNxAykp5+6M6Bc+x6fdLvA8RhjDlrrd2TwX5GUueOS33rKge8/MtRHrQFvba/LPErW7vVqhXfnHlR642g71P0Mq0MdWNSrjo1Tn5EAMllUefSxoWfPOrdItQZfsdQnTL6+A2b1LrSGZt6Oqu/X3cMM+VI05BlLFbmeM8zDt9BKsb9WiRR69vARf6MMd+1/u9WSX8o6ZclPSvpD9e3AVB5FkxwJfp/8r7bM0nu338eLl3pSGYtRUX357kWr/JGBXQvqhE0MtCb9u63j6D9A0VEnZudoJFHfouZuF7r2k9/udRdtvrxptV2i1NvlHVKa1nqxqTSLr4DYDSobxEmj4XPilBn9B9DvVaVzFqbbZzq6Szipv4Yxq9zOe4+wwwj3st68cp+ZY1Z+wWlyYFbWIqMX5b0BUln1TupwJuZ+emcjgsolTItmBCUYyntKDO/89BZsbrxY5t07snP97zONT0rbCRgN7+KKigNyFhO/8I4oc7NSJzUBa4RKdsDRjAbrQXofoug3jZ/3HcWZn95FafeKOuU1jLVjUmRsxooJepbBMorzVER6ozuY9i7cHJgVuk41NNZxE1+MYzrs7KSd7w3jBQcZY1Z+41LR/mwBY5gttZ+wRhjJP0Fa+2nu/53m7WWihdYNw4F0OxMQ6fm9+vNhXt1an5/okom6nkIGhUQtTKX/CuquQM7Va0MrihbnUq/sAOQJ+rc7ISNPOou737+S3c4Xzt3YKf81qd2zaCQ3AF0//Y49UYeI6mGYRzqRgDjh/oWUWTRNiq6ca2ns4ibopyDrGOxvOO9YYzKLWvM2i9qPI9egR3MkmTXkjT/6hCOBSgtCqA1Uc9D0BSxqAGNq6KanWnoyBfv0Jbp6sa2eq2qIz9+x1gGhhgv1LnZiDMNNei1szMN55owrrIqamAdp94owrTaJKgbARQV9S0wvvV0FnGT6xxUjMktFss73hvGA4Wyxqz9xqWjfNjCUmR4Thtj/jNr7b/L9WiAkpo7sNM3CfykFUBxzoNriphrWs2W6aqmN2+KNE2tCNPPgBSoczMQpxwIem0j5lS/qNNq49YbZSzXqBsBFBz1LSbaONfTaeMm17nJu7M0z3hvWOkryhiz9ssrTc64i9rBvE/S3zDGvCXpstbzU1lrP5vXgQFlUqYCqHs13KyPM4vz4KrMn7zv9kKeTyAH1LlDFlQuJml8RQmsy1RvJDUJ3xFAqVHfYqJRT7v5nZt9u7bpyImLevTouVKeq3F+oJCHcegoHzZjHath9rzImFv8tltr3878iHzs2bPHnjlzZhgfBYw1vwX0atWKHryroVffeH+ogUVQh06eneBAnowxZ621e1LuY2R17iTWt65ysXuEyhOLr+u5197VirWqGKOH775ZT83uHuoxUiYCQK+0dS5tXGB8ZR07RYkX85DH9yCmRFxR69vADmZjzA2S/oak75f0uqRftNYuZ3aUEVH5Asn0VyCXry4PrBTsJ6yyXFxq6tDLF3Tpytq+6rWqDt5/e+QO4jgVdJ6VIBUsspamsVuEOnfc61u/e/7IiYu+0wU9teqUlletOivX46XqlNHHb9ik1pWOs+zIqnz58r/8HZ36xgc924zWFhpsUG4BmGBJ69wi1LfS+Ne5ZUc7IT95n9s8OoP3Lpz0jRcb9ZpOze93Hkea77m41NTcC+d7Y9CK0ZEvFmttof7vuW/XtswHr416sMeky6qD+aikjqTflvRXJb1trf3bmR1lRFS+QHx+FWscrpzHfhWdp16r6gt3fErHzjYDR0lPGaMVn7Knv4KOEhwkrbhH9RQa4y1lB/PI69yi1rdZNERc93zSMrKbX7mURfnyxOLreub0O7E+GwAmRYoO5pHXt1Jx61z41+NRHi5jTdhM1bzbYEk6g8PcNn/cd+FnI+nNhXsHtmfxPWe++srGgK5uW6arWvq5z0faR96dv1H6HNL+fV3x8Ffu2UEn85Bk1cH8urV29/p/b5L0u9baH8nuMKOh8gV6RelscVWsSRlJX75nh45//Vu+FV2U94cl5OmvoMOCgzQVdx6BB5Cyg3nkdW4R69ssAvTFpaYee/6874OtKGVTFN0P5aI+RAvjasz4YTQzgEmTooN55PWtVMw6F2uitKN4wOsvbNRtXm2w7vaxK3ZydQZHEfe4s/iet84fd/7urQjfI2rnb5p0mVH7HNL8fT/z+L/2jasrxugbh/+LRPtEPFHr27BF/jZ6kay1y8aY1AcGIBmv0my22j0dIs1WW4+/+LokbYwwDpvynYSVQkfShb0/zE21as/P7zm+g7f9yImLAxVmu7OiIycuhlaKYfsGRoA610ea+1y6Hlz7BaZSNp3LknTpSmfj4Zvrs+KWL3GOrb8u8Ax7im/cz2MKMoARoL5FoCj1dZxYZJIcevnCwEzXzorVoZcvaHamEakNliSWiDJzd3u9FuOb9Nq3a5tvW3jfrm2+ry9CW9Mvhu7X7qz0fK9mq625r52XpEjXdtQ+hzTf2xVXu7ZjdMI6mO8wxvzZ+n8bSbX1n70Vdr8r16MDIGmw0uwvStudFR186YIkOdNXeKaMtFrQsvjytWUtLjU3KrPt9ZpvpeUFB2kq7rB9AyNAnesjbYAeJbgelqjli9ewiqu/sdtfd7geSOY1TdLV6Z309QCQEepbBHK1E/oxMGWQa6artz2sDZYkNogS61UrRnMHdkb7Ej5efeP9WNuzaGtWjOTXrK9EfCaW9PrsrFodfOlCpFis4pi11y9NG9v1GRUeDhbOVIvnTZEAACAASURBVNAvrbUVa+13rf/vE9baTV3/TcULDEmUSrPV7uhnX/x6YOeyFK1CGlVR3VmxPZ0qcwd2qlat9LymVq1sBAeuiipKBRa2b2DYqHP9pbnPpeI0/owUqXzxGlZJZ6F0f9+g0d/dn2N1vQG3uNRM9Llhn5fF6wEgC9S3COMaldqPgSnxhbXBksQGkWK9lAOs4g548Pue1SmjK9eWddv8ce1dOBkac7ma9StWkfaR5vpstaOlxIzSuZy2jf3w3TfH2o7RCexgBlAMUTtIrnRWQ18T9pKs8pEm1Wy1NypMSTr8wG416jUZreVu6s51FqWTeHGpqb0LJwcq4dmZRuC+ARRD2odB9elq+ItSiPpAzmowdYVf2ZR2xHV3Y8LVSf1eq51L527cxlcRpo8CANDv185/K/Q1WQxMccUCecr7M+s1/7jL2x7WBksSG0TpSO2s9g5kinse4g546P+e9VpVMmsjuYMe7HcfV5AogwPmDuxUNepw54Qaju9fMSazNvZTs7v1lXt2bIxYrhgzkgX+RnG/lk1YigxgohQpF2T3sbgWjMraqDuXPV6FOfe184GrNXv/HXWV4v4pVt7/ABRX2H0eZHGpqQ8/Ws71+OIswucJKpuidq5WK0ayaw0mT3djd3Gp6SzT69PVwAZc0row7nRQUhVh1IoU9wEojqDRm0YaSVqpLAzjMw/ef7seOXrOd7snqA2WJDaYO7AzUg5mb79JzoPfZ4Q9ZOj+nnsXTg5cV+3Oih57/rwePXpO2+s17du1TcfONmMNNAjNBZ6wcT8VsV967sDOwEUds7Lnlq0bCxH+JzfdoD23bM1s31GQ1i0aOpiBdUUqNPqPJWrnsjFSkn5oL1DKemHAtDqrdiNfl+vvERSguEboPfZ89IULAIxe0odBR05c7OmAHaXu6bausunQyxciP1DsrFhtma5qevMm386xIycuOtsUH360rPp01TdPYn26mrgujNv4StJYA7JSpLgPQHm8uXBvJvtJu4hxUT/zzNsfOLdH+YykHbnS9cEIrvjHGwEb9Tz0P4R88K7GRidn3IcMrgf7XszXbLX17Ol3EvUHu/adJg6O9bb+12Ycehehvh7F/VpGdDAD64pUaLimSFeM0aq1qk9X9eFHyz0VhpH0Y5/eqt9981KsiqRRr+nU/H4tLjX12PPnMx8pnbTT20/cv0dQRU4jEhhP3Y2BYnQtr+leBMb1MM+1MI5L60pHSz/3ed/fBY2E7qxaWbvWYOtvwFmrxHVh3NHmaUanA2kVKe4DMHlGkSbKtW8vRWEW9fAvv/aOc7uX0iBo9kjS2KB7MMKtjvQSXjs3yrn369Q8draZON1DlMFcSeNW1+juNNeSK/VFP79ObC8dSVZ1aRHqa9K6RUMHM7CuSIVGUMfoW+tPzZ9YfL3nKaeVdOobH8RaoM9baODW+eO5pcfIOrNHnL9HUEVOIxIYP/2NgSQa9VoundNe2RWUuiKum2pV7V046dsAC2vIfLvd0dMP3TnQgHvUZ1pr9/EHiZJuwO81p+b3x/jWo0VKhfFRpLgPwOQZRZqooNigO6evFDwIJ6gudI1z8rZHGY2aNo1hw/E9vU7TKOc+607NqGk84goa3e36nt6gte31mm79ZE2nvjE46jzqQpfDeGhRhPqatG7RsMhfBkj2PR7iJu6Xwv/2Sa+NoM+8dX1fx7/+Ld8OijidFqu6PmJu1CP9pqRIixDEKcT9FgfrRiMSGC9pF8jzgvQ8gkVvn0GpK+KoThldvras5npneLPV1iNHz2nmq69ocakZWv5tr9c0O9PQqfn9enPhXp2a36/ZmUbiunDmq6/okaPneo6nf+EZr1HZ/Zq5F87rzkOvjCSGiltH+x1/0OI6KLYk1zqAyeDKPxs1L20UaRcxzuoz+4Ut+Ju2LsxjkeF+Yec2yrkP6ziNG7P0L/rnpevoF+USi7qAnut7/vyX7tiI/d76U//v2T3zLkhQnZlVrDS92f+adW3Pg9+CidWKIa1bHzqYU6KxMT7iVvJhf/s018bcgZ2BlUuz1Y41ldq1r5WC5CaVpJumqzryxTt6VtrtL8TjBl1eRe6qwGlEAuMlzUMjY6SPbZrSI0fPZf7wqVataN+ubdq7cDJxrvtqxaheq240KD5+w6aeBVU8l6509MjRc3r8xa87G8JG7pEpfnWh0Vq943qQ+viLr/vWSf0NRr9GZWfFqtUOXlE9D0nq6GE0ijE8o+jcAVAOH9vk303i2h5V94PNIycu6sG7Ghttn7DOwiz0d3K6BMVBaevCYYxG7f+e/ec27PdSNh2n/Q+yJW082H/47pt93/Njn9ka2h7u7iAOul5mZxp68K7GRlu4YowevKt3dLgrLo0ar0YZ6Zw2Vrp8zX/wiGt7bkJyTTPwlBQZqRUhHwyyETff08GXLgT+7ZNeG96Uoyy7fovSjVwJWLzK65zw8kEfOXFRrXZn4z2NhNNrvNezkBQw/m6qVX1XfvfKjyMnLvoGzFNGqkyZjfdmWWYaIz14VyN0VfB6raqry6s9r/FSafiVf7c58gt62p1V5++spGdPv6NnTr/jLGO9c9WdzsNvGmvYqPHuBmOUxuOwYqgkdXQRpmgiO+QAB9aQ+mfQR4461LU9iqxz+ibVnX7C9eA7qHM1bYfksFINhKXZCPv93IGdmvva+cC1jYLihrBUIK4Rwm/9absndVia+3NxqaljZ5sb7e8Va3XsbFN7btm6sQ9X+9w1QKvfr53/VqTXJR1gURRhuaaLsBBhEdDBnBKNjfESNd/T4lLTtxNDuv63T3JtZJE/tMhW1zsxXBXM4y++rjNvf9DTEbNi7UZncNLCmUYkMP4Wl5q6fG15YHt1ymzc714A2N9gWLXSqs9o4CzUa1W9+sb7geV6dcrImLWGiqvD1xsV4ZVh05srqUZueN+2e/Xy7kB4dqbh2/Bsd1b02PPnN14XFu90NxijLHAjDSeGSlJHk39v/KTN8wmUHZ0i/lwPrG+qVRPvs4gD0/zyAocNwknbIen3md66QFnl7M1KlMcJrrgh7O+dtqM+iijXnGvwl2t7P1efSL+o10dRhcWNRby/R4EO5pRobEymoCke3t8+yrXhPZFsttqBo3vHxfZ6Tft2betZnLBbu7Oi5157d+A8ZFE404gExtuRExd9U0Zs3jSlIycu6tGj57S9XtPlq8uBo1Gy1rrSUSsgpVG9VtXla8sbszj8Hqr1d4rnNQqkv6wNWnD2kaPndPClC6pPV50pm/obqVEXuIkSQ6Udceeqo+vT7oUTkzTEAaDI6BTx5+oL+7OPOok7QYs4MC3JIJywDskp+XfMeslF+j/zpr44qCgPOQ69fCFSOklXzBL293a1/aeMNuKQ/gcdzVZbP7O+GHOUcxPlmkv7wCCqsvdzhPXtFPH+HgVyMKdE/rbJFFRQRF08oDv/oxS/0K1VK6pV87uFs65UvBykx842A6efu87DpBXOAOJxlRGXr6305NmNOtIiKzfVqoEdpt/5aHmgY7w/V93Bly4MrVO8+zyGdfS22h19+0rHd4HWeq06MO23P+fhlumqqlPxc+1nsf6FXx1drRh9+NGyc79RcjYCQJnQKeLP9WB41SZfuKyoC4v6LfgbpOE4Xm/7TdP+o7y7t3d/5o0fG1xTogjrG0RZ7ygoZgn7e7vavKtWG3GIX8y6KunxF78eemxRjiHoOKL2TWxx/L37ua6bsnDlmva2F/X+HjY6mFOisTGZXAXFlulq5MUDwvJWBvH2dUPIKsBRVKeM7+IBn942nXrfHq+j4fjXvxX6nYMW5AtKnE9SfWCyjSKAixJUX762rFs/6T62sIdqQSmZ8tB9HqOsNr8qadOU6anrfuGhO3Xuyc/7xkKzMw3NHdip7fWaWlc6uvFjm7RluhorhspisT2/OvrGzZsGOvL79xu3IQ4ARUaniL8oqTDi1ju+Dza7UkOMqv0Stw0VNojK1THr2l7GhxxRYpaw85SmwzVonY3uv+flq8sD7fz+a67uuNajHt+9n/1UpNdFWQywyFw5s73tDDxdQ4qMDDD1PhtlWmDCNU32yftu73ld0LWRtNJs1Gsbif8fXZ8ik5SX41ManBrl5djMYv9e3tOwJ8G1asV3MSxv9LMrR5wk8schtjKVOQgXNf1CHNPVKXVWrW/qDUma3rxJ05s3Baas6KxYnfrGB7E/23uo1l3O5a0/EPbuh8eePx84kqXdWe1ZkKZf971Wn67qw4+upylptTuqVSt6+qE7I99/WTVG++to18KJRW7kAkAapP7xF3UiZ5z6oYipIZLk4J6daejM2x9spDWsGKMH70reH1LUlKO16pRvR26tOqXf+x//auj7w9KP7Nu1Tc+cfifTY+7/e7baHVWnjLZMV9W60vG95qoVo+qU6XnAHqcMcHW8Jn2dH2MkvzB0mGmdw3Jms+bTGjqYUQhlW2AibgHi15HlWjwizK2frOkzj//rTPIY/eG3P9IjR88NLCYlSY+k7LyW1NPhEPaEv/sY9tyydeB8hY1YI38c4ihbmYNwfuXy5avLqUb/Xl22gWXte622nn7ozsw7tr3APmymi9FazuDWlY42TUnd7aAf+J4b9QeXPop8XI31HPnd+aq764Ww7zjz1VfUutIZeF//veb3oDFqee3Vpa6/SNrczUVt5PIwDEBe6BTxF7R2Qrc09cN3PlrOZd2ZMN11ypRP/t2wY1hcaurY2ebG+1as1bGzTe25ZWui487rIUfauvOGasW3gznODOKgwWZpOlynHB2rfnFjZ9VqevMmLf3c57V34eRAXNxZsdrcN8r5R3bclPqhf9LX+XGF4nmnde6+hly6Z18z8JQOZhREGReYiFqA+HVkzb1wPtKiAX6ijIS7cXNFl6+Fdyp4gYHXuXbm7Q/06hvv5zJaK2ifv9A3cs3v3LpGawftl1FncCljmYNw/WVHf/kbV9iDvO31Wk/jPM3iexVjtGqt6tNVWbtW5oXVElbSR51V/dhntg7UDb//x5e19zNb9daftp2NyG79DTy/hy4/8/w5uaou1wisqOmgwsrrsL9lnNzNru/otwjtqEfy8TAMQN7oFBnkeuDYLW790F+ej2LdmSyOIesYOo+HHFnUna6HDFEfPoRJ83f+0U9vjbVPb7vr99f6Zuqd+sYHemLxdT01uzv0WKLcK97ryiRqG6LsixdmjRzMKIQy5l6KyvdJ4op1NtK9fJBpVCvxb+12Z0XPnH5nY1GBtPpzk7oqlXqtGqmiD8oRR/44xDXOZQ6u686zm0TYYqdew9LLy/sLD90ZmrPYT61a0cN336z6dFWXrnTUancil8PtzorzwePpb17ayBf881+6w7mPLdPV0FkiszMN/eMv3em7oJ/fMXnvi3pPTRkTmP8xqKM6i9zN3ois7vNupFTTfrOQRb5pAEA8rnyxN26uJF53KeoD1zzbL1kcQ1iqANci9EGL02e9vkEWdWfdsc5G9/Y0awBFyfPtcvqbl3w/M6xNHOfaeu61dyO9Lsp6HaN+WJ9E1Hul7IsXZo0OZhTCOHcQxumwMlpLK/Hle3ak+sy8FoQKiAt6X1cxA/moXYnvD97f+zqXoMT5JNVHXONc5qCX12hxBYBeJ3J/t6nX6evqTu1e1LX7s+J2aNdr1Y3c81FWLI9jxdqNhsfsTEN7P+M/4uXez37KWVc1W+2NRowkHfmiu6O6m7e/qPfUirWyuj7KqL+R5jo+r96M0hgNerDk15CwSjeFNQs8DAOA4XOV/fXpzYk7QaOU23m3X7I4BtfDd2/74Qc+O9DJNLW+fViyqDtdA1NbVzq6bf647jz0iuZeOL8xOMsVv7i4xjDcuLkSOuCsO2aa+9r5jc8MaxPHWWgv6shcv0WTv3LPjp6f4z6MKYIi3K9lRIoMFMI4LzARddqI99rFpaZ+7fy3cj6qZDZVKrrxY1OhHdhHvniHb8eL5J7+FJYnK8r0KfLHIapxLnPgz/U394LeoDLIL21C/0M0jzfV+Lb544GjkLdMVzf2EbaIXhrdU0Lf+lP/uujVN94PrKu6GzFRRjBL1zuW5w7sDMzpX4mY/zGL/MhB+yhqR25R80IDwDjLo05wledeiqxhtF+yOAZXvOJtL0Je7yzqTld71wb8Pk6qEFeqjSvXVnThq2vrGO1dOBnaj9BZtTr40oWeVDeucx/noXmcGdXjmGYnrA8n7eKW44oOZhRCESqivPh1alQrRrIaWK11365tmvva+Z7tRdLurOiG6pRq1UrgVOWgVYf9fhc1T1ZQ5TWOFRvyM85lDvyF/c1dZchTs7t9Fx4Nu1ZcgamR9PR63nmv7EvTuVyrVvQjO25ypsnobuwENZi/fM+O0NXMO6s2cv3UnT7k4EsXfBtijRgdu1k8FArahyuH9qg7cnkYBgDDl8fDvbAH3cOQxTE0HOeme/bWqNtlWdSdfg/Ao4j6EOKmWtU3NupOnbFv17bQ2EyKPns5zgOSzZsmO9mB3zXULe3iluOKDmYUxqgqojxWZ+/f54N3NTYWz/M+Qxrs6Dhy4mJhO5c9rSsdPf3QnTr08oWB6dxJG70suIZRGHXwi+FL+jf33ueV7Y8ePacjJy4G1hdzB3b6LtRnpY2yLWp+N5dGvaZbP1nT6W9eCnxdd7oKV4M5y1QQN26ubJyn7fWavnDHp3T0d9/tqd+qUyZWx24WD4XC9lHEjlwehgHA8OXxcK8I5XkWx+Dq9IyTfiFvWXzPpA//oz6EcKXI6N4eNzYLG7QVZ2b11eXVWJ89bvqvIb/FsumvGEQHMyZaHquz++3z2Nmm75Ph/p8fDZhGXBTb10coh00pj6OoU5MBjK+45Vfc+mJ2puFMDfFeq63FpWbkIN+P17nsGrncrTtdRX+D2WitUfhshBEyUbWvrejytbXv1my1dfR339VAM2W9ARWnEZ/FQyHXPmZnGjrz9gd67rV3tWJtoaY+8jAMAIYrr87gIpTnaY/B1ekZpzM0jwFe/dJ+T9dI7SD98UvQ93SlyOjeHvXzb9y8lnc5bNDW3IGd+pnnz6ng49kKo/saum3+uO9rithfMYz7y4UOZky0PEbOxt1ndwHg92SsSIzUU2lmFSSRYxLAMCV5uBinbPfKdRerdA8Uq1NGrSvXdCpiUOuNKvI6UbtzSltJx842nVM1k+jvTPabmdNZsTr08gUt/dznJfk34v0CZNdr01pcaurY2eZGHczURwCYbEXoDM5D2s6ntAOD8hjglYe5AztDU1dWp4w+fsMmta50fNcXSjKauLv9GzVNR7Wyls4i7G9z5u0PIncu17tSdYQZZYdmnrq/l8tNMc7TMIz6/qKDGRMtrBBOUljGqXT7C4Aidy5Lax0RUQumOOeOHJMAhinJw8WoZXt/ue6StLQ36/93+Vr01Brdo4pefeP9gc9ud1bU7qzI+BzXdHVK7c6qbqpVdfnasjor2dVTl650tLjU9G3E+wXIc187LxltHEOWQTOpmgAA4y6Lzqe0A4NKVd/2pbGoTBl94mOb9O32YIdyv7DvGSXVSNS+AW+AQNjf5pdfizZbrTpldPB+/8Ws+426QzMvUeP5zkqxUomM+v7KLXO3MeZmY8yrxpjfM8ZcMMb87fXtW40xv26M+f31f7fkdQxAkMWlpqYcyY+212sbhUqz1ZbV9cJycakZuF9X5XpTraq9Cyd12/xx7V04qcWlpg69fCFV/s1ha0QMHOKeu9mZhg4/sFuNek1m/XOGueAFUGbUt/ElGX3jKtv7t6fNqxzGSrE7ebu/V9B37N5rxRj9wPfcqKvLVlbSdz5a1udu3bJRD0zFWV48wMGXLujOQ6/o1vnjunX+uGa++srGA8r+89hZtQPf3Qua0xr3VE2LS82BGARAfNS5KLOgzqeo5g7sVK1a6dnmlxrCVeeUpb49cuLiQMyxsmr1nY+WI70/7HtGSTUSte1dWe/TCPvbBI1e9vZRMUYPfe7myO3wLK4pP93X0ChEjefjDPgYhlHfX3kuDbks6TFr7Q9JukfS3zTG/LCkeUm/Ya39AUm/sf4zMFReB6jfU8HuFeWTFJZ+BXt1yujyteWeDtdHjp4bWCSvyKKMKPYqgkeOnot97mZnGjo1v19vLtyrU/P76VwGoqO+jSlqZ3G3KA0qqXgNJKn3e9Wno03lW7FWv//Hl3tSRpz6xge69ZP/f3v3H2ZHdd4H/Pvu1ZV1F2qu5MgpXAuQ/aRSo8hozdpgK3Es3KA0GHkrsIkeaN0kbZq0aQIh24iEx0h+SLWp6trtH01rx67dmGIBIhuIkog0kvNDjQiSV7KsINXBBskXahRLS4y0SHd3T/+4d65m586ZOTN3fpyZ+/08Dw+r2bt3z5y5O+85Z855Tw21aiWx/H3TM60FqTnOXWhh/ImjkfIeNqdn+h48jfOZKIq4D8yJyBdjLhVWEoNPYRODwmKOLq4OiVj1EFRXJ3NKGcVSXeoE57jJtTDdONFpq/UzacubIsz0GqQxoOn9DOWhn31S8pR3eza1AWal1CtKqa92vv4egOcBNAB8GMAXOy/7IoCxtMpApBP0RMoZCNXdVMJuln439iuXLEp0WXHWKiKhwckdCHRsHHghKjrG2+hMB4vdTBvtugZcRbddeEe1IqiGtMpq1QqWGg4Qu3/GfV79ZmI68MLZSDO0TWffuLXmVGh9efU7eBrnM5GWpGcbpzW7iGgQMeZSkSU1+BQ0MSgs5oxvXIVqpTfGmw7cZsWkToJiqa4Z4xwPG4AGzDdOdLeZgq5NLayh2RGljZDGgGbaqwFNJLRQL3N5t2fTnMHcJSLXAxgB8CyA71dKvQK0AzSAt2p+5mdF5JCIHDpzxnxHUiITYQOdQYOkJjdL741dt0tsUcwphXt3HcG67c9og71JICjDTDAimzHemok7w8NkpYWuYbflphU9x92uWLwIVy7RDx436jXccWO0lR1+5/VaQhv5mTp7/mKsn5tTync1kImZ1hzuf+xopM6pyWciizQTacw2znu5JFFZMeaWWxlTC2Ux+GQUc0IedtvwENSvrvzozlfX/3eOhw1AB723l2mu5h2b32k8AGg6g9d39XZFcP7ibOy/HRvaJ6bzMdxNUxvuGXmnHk19kz8RuRLAbgD3KqX+TgxnpCilPgPgMwAwOjpa3KmfZCVdAvwwQQFYt6mdk+vZ9g38TEzPtNqbLKE3aX9YIOCmfUTpYryNJq3d4Z333PbU8W7qhyXVIYxetwyj1y3DvbuO+P5c2MDvhtXLsftw02hGR61a0TYm48a/uGZa8TY/aXTiqLOiqCISuJO715xSkTeZCfpMZLWJTRqbs0TZkKmsO8ETJY0xt9wmp5oYf/xoN+50N5pFsTcuc8ruvs9vWL0cO/eexH27jiRy3w+LOTv3njSK53kPMo6NNHDopbN49NnTgf34oBm8QfUQNgAd9B5epqvF/K7/y6/N+K5uM11J5n3P+nAVr78x220DJ7mRpI2cj7JNmx2m1ccxkeoMZhGpoh14H1FKPdk5/B0Rubrz/asBvJpmGYj8mD6RBNrLI8Ke/uhmHD04eUyb67moWvPK94mybpkPwE37iNLGeGufi7OXB1bPXWh1G5m6TsA19VrgKo9Hnz1tvFzwbUuXaO+3UeJfXqoV6XZwnfLGiaNJzoDKKs1EGrONTWesMVczkRnG3PLb9tTxnkHQ1rzCtqeO51Si5LhXY41vXIXdh5uJ3vfDYo5pPDNN55CWyakmdj0XPLgMANe/xb/tFlYPuj0x3MdNcjBHncTlXY2nO70o7S73ew4vXtTzt5PERpK2cgbimY6sLbW/Wmk/xv0cgOeVUv/J9a2nAHys8/XHAPxeWmUg0vEuHQh6QqeA0I3ndDeUKAMCReJtGExONXH+Uu+OutUhwafvWsdN+4hSxHhrn6BGZlCHI6iDEKWh/41Xz2s7h+74l7fqkOCem69F3fWAckjaOZh37j3ZnU3bTxx14lWUZYt+r80qzUTQ5kdxO/ymyyXZOSIKx5g7GKY1q4p0x4sqjft+WMwxTZk4MxtvBVRStj993GgPpYPfPOd7PKwedM0693FdDuaKSGLpD3TtwbjtxDQ2krSZ0z7XzbguykzspKSZImM9gH8K4JiIOOtBfw3ABIDHRORnAJwC8JEUy0Ck5V46MDnV1C5bNhG0y2zeatVKrM750uEqzmmW7ngbBjv3nvQNwFcuWcSBZaL0Md5aJqhx7bc80b0c1Z1aox9BKRWc+Ldy657cdueu16rYtmkNxkYaGL1uWfe8nUkvziyqfh/SXlOvtZc6P3G0G6ea0zMYf+IoDr10FvtPnFlwHQD4LnG8qlb1vS5J7y0wvnGV73nHSfnhZrJckrmaiYww5lJsD04e66ZcqIhgy00r8PDY2tzKk9Z9Pyjm6OKcV97daF0/2Cuovx9UD7rUaO7juuswrxS+NXGbUfm8vKmwNqxejl3PnV7Ql3dWksURJS1XEHfdXb91T6yyZKEigpUB5Yu6aXXRpTbArJT6C+g3X/xgWr+XKI6xkQZ+7cmv4YJPrsilmuUrbrobacWC3MtBwVvgn8C+XqviodvXLOiQO6pD7YDjDk66Myz65oZERcB4a5+wxnVQh2PbpjWJDKw2p2ewfmJfYC7FPHLcVSuCnXfesOABr+58Z1pzfcVRZ2a43yyk1pzClw6e6v7bGUheUh3ync21pDrU88A2jb0FnHq5/7GjPefdby7mMEl1ConKjDF3MAzJ5dyq3uNxPTh5bEHcmVOX41Beg8x53Pe9D9p1Eb4oA3NRyunuP+v2aHLXfdLXxy9P8K7nTmPOO1Gsj+GL8Y2rFuQvBy6PHxSJbpzEK6yNmvdYUNbyTWxDZJF/v/mdqFYWBohqRfDQ7WtCf3Z846qe3e2rQ+2n0lHyB1WHBIsr2QTTWrWCu2++tqfcwOXda3feecOCAfZ6rYqdH7kBABbkadRhp5SIBpEuZ55JpZXoUAAAIABJREFULr2xkQbuuLGRyJJAZ1MiXWoFv9jlJ6lO3tLh6oLBZcB/ea7bnFKx8vC5l42azkKaac1pX3vuQqs74O19/6SNjTQwr+mQpDmb2DRXMxFR2en2oIuw12yPR589Hel4FvK677tz9t5z87W+r9ly04pUy5AU03J69znwG3j01n3S18evzdWaU/BOsdPtuaTjTi22/enjvedWjGcFC7zvHct8j1eHEJpi1c2GlHRZ4gAzUcfYSAM777xhQZ4kb0c4kPceI8DodcuwY/PaBfklg8wphUsGuZ76VRHBjs1r8fDYWtz1nhXw3h/dG1JNffxWvDhxG16cuA1HHrq1XU+GOTHPX5zl5kBENHB0OfN0x/1el1QkCN2UKKR93KjX8MmP3hBrkHfpcBWfvmsdXpy4DZ++ax2GFy/CfbuOLMiBHDZgunS4uiAPX606ZDSD7OXpmW4e5yQ5A95BM8OTELQrfVpMczUTEZVd0nlpAf1MxjxnONpw3394bC3uufna7oBdRdr7M+SZOsRE1HLq+s9B+ZSTvj5RVq2ZPtD2Dpyfu9DqeRDj7K1RJC9+V5eepP05Nfm7LeLM7X6lmYOZqHBMchT68ctB3JpTuP+xo5hXCkOGT7j6eSpuqlatdAPT5FQTuw83fXNcuTd48OYKNQ040zOtvnJGEhEVke4eaZK2IujnvQTA3Tdfi0cOngockHZyB3vz7l24NBu4gY13IHX708eNZwM36jUc2HpL9/f65TUGwtN0vP5GewPZA1tv6b6PSaxUuJxrOYp6rYqLs/OBD1HTTlUB+OeozGpWGeM1EQ26NO7BupRPeaeCsOG+//DYWusHlN1ejJH/OG4+5SSvT5S0Y1cZTpAznXhWtP0ckthjK6+HR972ftqTItw4g5koAUE3IN0SmDRdsVg/0+yOGxsLcl8FBQRnEMB5Iune7MgUd6AnokETNMvUuY8Gzaw1maUqaC/f2324aTTb2TvDpDk9EzhY7J0lMzbSwPBis3kJ3k540C71fss/3Vrz7Ye1K7fuwf2PHY2cm9pkB3h3ubdtWmO0c3naHSUbZpUREQ2qNO7BulQKRUkFQf3JY2WSV5QxCdPnHqbtoaKlzkyivPMKwasIU+DX3g/rdySJM5jJSJ5PQaLIq5x5bJTkx9mNePS6Zbhv1xHfQYdHnz2NRw6eMipzRcR4s6MgRXtimZSi/N0QUbLCdkgPmwHr9/PViuCKxYvw2kyrez8xnTWydLhq/Fpg4exjN5N7eb1WxbZNaxacW9Au9e4HnrqY5HSIgjpGppuxOKoVwXuuX4qD3zyHOaVQEVnwANZZ5eO32R6QTUfJhlllRcKYyzogspkzQ/fRZ093486Wm1YUauYuxadr252/OIuVW/dkcs9uRBizmDZcsWYyplDE/RzC2vJuQW1QZxVhVoImdWTRHuAAM4UKWtpqU6M1z3JuWL08dIlyHLXqEGZa3rT7CzU0wejeXUd8X+90lE0Cge6Geu5CC0uHq3ijNWd0zkV7YpmEovzdEFHyTAZNgwZrvTus6zod92nu827OZrUmrwV6OwEmO54D+lgEBO+C7n7/KEs3vb/7wNZbsH5in3HH6a53r8Duw80Fg9e7Dzcxet2y7uDyA08e05bHZMNGyg5jLuuAKElp/T0VLRXEIFs6XPVd6bV02Hwlr5u3bVcfruL1N2a7A5BZ3LPHN67C+BNHjVZ3mfbfTSdF9HNOFQH8ilxJMbuM93oF1di3Jm7D9Vv3pFeYCIImdWSBKTIoVNBTEJvkUc7JqSZGPvEMvtTH4LLuvtjOlfxO7QaBAuCem6/F+YuzuHfXEVy/dQ9GPvFMd/lDP5tQ1GuXN1XSOXehZXTORXximYSi/N0QUTqcHdJ199Gwhrt7h/UDW2/RDtwGqdeq3c1qda+t16raJcCmO55/+q512jIC+l3QN6xejvEnjga+fxh3jAlLt+Fo1GvYf+JM4D06bMa36YaNlA3GXNYBUZL490QP3b4GVc8IpvPQPi5322548SK0PJtKxPmMTU41sX5iH1Zu3bNgE2UtT1NrCOjZPDnK5nR+6WR23nkDjjx0a2AbNgrdeHiELGixuK+Xbswm3wzqvfJOxcIZzBQq76cgprIup/fJtpd3qUS1IoDCgkBSq1Zwx40N7D9xBk3X7C1ndrBuFjI67/2/Dp6Ce37zuQut7oZGUZZ1eB156Nbu13HeoyKCeaUGenlmUf5uiChdaW7WFnafvzg7H/haJ+ew7h4dtOP5vFK4qlaFSHsmtZNP2e+9/GbtKAV86eCpSOfr/f3eGOP8Pyh2Op0m3Yxu5x4ddq/mvbxXnukZGHNZB0RJ4t8Tma4miyuJz5jfTPvxJ45i21PHfWcP79x7smdQex7oze8QcdR0EFJ6ve8dy3DghbO+x22S1ybRDg4wU6igpa02ybqcYbObFNozw16baXU709Mzre4gsm458eRUE+OPH+25+fvxS57RmlPYufdkN3+mydJmN/dsO5Nl3l4CRMonVtZ8gUX5uyGidKXZQQm7R7tzrsUpR9AGtvfcfC12H24aLx92yhD2cDZMe3WPfqOlsZFGcMzqdJrC7tFhOQV19/KkYlrRYmPU5eRJnx9jLuuAKElX1aq+uVOjbHRO5myNeWkOnCZxz/Ybj2jNKW3aDdP+vDOeYMM1sMWL3/WvO+f4FYsrOH+pt217xeLwlXVJSvvBSBimyKBQuqWttqU9yLqcJk8XL87O4+6br8UbrfnujX5OqW65/P7Q/Z4sxi2bs6zjU3etw5tr4c+T/OorbJm3lwKw+3DTaKfSvHc5TVNR/m6IKH0m6S76fW/dZBN3rIpajqCO9CMHT8VaPhxls0E3vxQeOkGpMpxOU9g9Oug9dPfypGJaEWNjlOXkaZwfYy7rgChJogmquuMUXxFjXhKSuGebDBi7Y3ElwgfYptn6NqSnCJtxPq+ZyKc7nqY0+x1hOMBMofzy6ph08LKWdTlNni7OtObw6LOnQztd7txJpk8Wg7gHBZyg7d2koF6r4p6brzWuL9PcloB5/qgy5zcryt8NEZVDGjnXgvohuuZyWIckTowTAJ8KyfPs5tx/dV6engm9R7u/D1zulAXdy5OKaUWMjVGW+qZxfoy5rAOiJPlt7hZ0nOIrYsxLQhL3bNMBYycWR9nrwqbVL7pSZzl0G9bOnmn5rS3XHy8rpsggI0XJq5NlOU1zHOtu5M6NfnKqabybq6npmRYenDyGh8fWameLXfGmRZF2MY6aLqM5PYPJqWas5dc2PTHtR1H+boio+NLIuTYdoyMd1CGZnGr27E9gQgGRl2oGpcpwyhh2j/Z+f3Kqie1PH8e9u47g3l1HUK9VF+SwTiqmFTE2Rlnqm9b5MeayDoiSUtGkFowyA5TMFCnmJZ3Ko997tumAsROLGyHpv9w2rF4eu1xlNL5xVU8a0yibIQ4KDjATxeQEg+1PHw98mj0kgF/GC+dGv/3p47EHl6sVweyc8u2sP3LwFEavW5Zo0HaC4MgnnjF6gv/Ak8dw6KWz2H/ijG8g1nVIh0Swcuseq3JwERElLcmOSho518LyEHsHi8MGtHfuPRl7tolJzPLW54bVyxfkiTYpY9B7ex8GT8+0MP54e2PdsZFGYjlwi5hLN8oDDpvPz9Y8oESULd3AXZQZoH7yuMfYfl+zOSa4Rd1rIAsmA8be9F/eWK178L//xJkES1oS3udLrn8vHa76jo8sHR6svO1MkUGF504vsX5iX6b5msZGGpj6+K349F3rUNflqlTtgWA3940+6lIr550a9Rp23nmD9nXOjK80lk2btq1mWnN45OApbU4tXdqNOaUGKgcXEQ2eNHIOJp1zLSwP8d0R0iwB/c1GCotZfvW5+3ATd9zYSCRlwM69J30fBrfmVXcZb1A+xShtlSLm0o2y1NfW8xvUPKBE1Eu394zpnjR+8rjHFOG+ZmtM8LIxlYdf3VUrgnqtGpr+y/l+3JRng8avHejs6wEAD92+pmfMp1oRPHT7mszKaAPOYCarRH3CasuTRGdm77rtz/TsODwPYN51MxoS4I4bzZbDvDhxW2idBKWseHl6Bp+6a12sZdNBv/c1n12VdbxBywnE7iVBzu8Z8lmO5n49EVFZBHVUsrjf+d3jnXK5j+3YvLYnzlREcMeNjUhploDwGdFBwmKWrj73nziDA1tvAdA+521PtVNcAO1ZJQ/dvsaovoM6Wu6NdZ2yeOs1Slsl7x3A4zJd6mvr+eX9N0lE9kgj7VQe95gi3NdsjQleaaTyeHDyGB599jTmlEJFBFtuWhE7haVp3Xlj9fqJfYWYQZ63sOs/NtLAoZfOLried717hXWf47RxgJmsEWew2LagaTLwOq+AXc+dxuh1yzA20kC9Vu0ZlAbQnRHt12FzDwxcpZs5jXZgiBN4wq5FP4MEwMIbtPv8Vm7dE/p6IqIyyDPnoN89fvzxo4CgOzvDue/v2Ly2p6M9pxR2H25245gp070LvJYOV0N/T1h9Tk41e3LnnbvQwvgTl1NcBAmKe+5OmF/MXj+xL3Jbpey5dG08vyLlASWidKUx6JnHPaYo9zUbY4JX0qk8Hpw8hi8dPNX995xS3X9HHWTup+7SeJhie1qWOMKu/+RUE7sPN7uT5eK2lYuOKTLIGnGWndgWNE0DjHs5xbZNa1Ad8iynGBJs2+S/nMK71Gl6poUhn/0m3IEh6rLpsGsxvnFVTwoiP7rXRE3bwSeoRFQ2ed7v/O7xrXnVs/TPue8ntSx0bKSBO25sGMUPR61aMVpeGFafO/eeXDC47HDH4yDjG1f1LH0EzDZ4sa2tQv7YBiEit6TTTuVxj+F9LTlJp/J49NnTkY6nJUqKKxNFSMsSR9j1tzGFSh44g5msEacDlsWmAKZP4Canmrhwadb4fZvTM92N7O56zwrtRnjecvid77xqz/AaXrzI6D3CzsVkCYizxNiPALE2WErjCSoRkY3yvN9FGdg0SQ0Rxf4TZ3zz/VVEMK8UllSHcHF2HvPqciqOsE7O5FQT5y/6x9/zF2cxOdXs+zz8Nvat16rYtik8xUZRNjDKkkl7JOsZUGyDEJHb3Z/9Sxx44Wz33+vfsQyP/Mv3xn6/PO4xvK8lJ+lZ7WltJBlGF1uTiq+2rTBPil8KDHcblZMJ2jjATNaI0wFLO2iapu14cPIYHjl4SpskX8e9EVHQk0JvOfxMX2hh6uO39n0ugNm10O1aW69VccWb2gPd+0+cwR03NkIHzx1FycFFRNSvPO93UdIcOff9pAZIdQ3teaW6ewY4E41NlheGxcfpmRYeePIYrtKkowKAuuEO304HzN05c2amBF23ftsqZVtqatIeyWOPDbZBiMjhHVwGgAMvnMXdn/3L2IPMedxjeF9LVpIDsRWfvYec42nJIramMdA6JIDPIjTfVdxpCUuBoWtnBqUzLSMOMJM1/DpggvaNb/3EPt9gmHbQNHkCNznVjDW4HPSeJuXwCuvoR3maaNIZ9ntNdUhw/tJs9+ZqMnjuVYQcXEREScjrfqe7f7tzMAPtGLxh9XKMXrcssYe5QQ8w48x6MYmPM605LKnqs8JFmSwUp3PWT1vFls2Mk2RynfOaAcU2CBEB6BlcDjtuKo97DO9rdtpy04oFOZjdx9OSRWxNY9XWe9++zPdv771vXxb7PaMKqzvdc4EUnxdYiQPMZA13p6I5PQMBuoO2QR2qNIOmboaX+wnczr0n+xpc9nvPKN8DzDr6JufiMOkM+73mwqXZ7tJhR1jQKtvMLCIi2+nu8YdeOrvggakCurMzdmxem8i9OugB5n2a1EtJpOnwxia36ZkW1k/s626cK9JeFeQ9z8mpJu5/7GjPjCOTzlnctkoZl5qazG7iUlMiIiozZyM/d8qFLTetiLTBX1RZxNakVpi7xwiGNKO0L343uzZBWN1Na9qZuuNlxQFmsorTAVs/sa9nQDTrDtXkVHPBILeb+wmcyQ25Xqvi4ux84CyroKd6QcuZGwYdfdNz0blwaRbbnjqOe3cd6S7ncX7vga23dF+3cuse35/X1VHQzCygOMu5OEhORHno597jN+Dp98DUib0mGxyZlCfoAaZun4G48dFNFwMdznu4lzd6Y9L4472Dy46onbOk9kQoIpPZTcxbTURlxD4DuT08tjbVAWWvLGJrEivMvWMEuraXabq3JNSHq76TFZw0a2y3tHGAmaxkQ4dKNzNZgAVP4MI6t7VqBSIIXcK7YfVy7fd0TwK9qSd0jRbTc3G/j/v3uW+mzg3eb1Z51BurbmbWtqeOLxiQt3lJcBmXLxOR/dK49/QTe6OURzebN86slw2rl/suMXULG1wO4gywn784i5ZfAsCOKB2IpPdEKJq4abi4MRURFRn7DJS3rGJrvyvMTdKfZU2XTs05znZLmz4hHVEGJqeaWD+xDyu37sH6iX2YnGoC0HecsuxQ6TrUCgsbAeMbV6FWrfi+tlGvYcfmtUZLI/afOKP93thIAzs2r0WjXoO43tc7uPzAk8fQnJ7pbh74wJPHMDnVDDyXnXtPduvdYXpTdzreDr+6CLqx6so1PdPSLgm2TdDyZSKitKRx7+kn9iZRHpNY56WLnRWR7nv0m8bq5ekZ7QaBQPQORJS6ihpXi8DkOsf5LMSha4cS0WBbqtn8VXfcBPsMlLesYmu/bFylpWsHOseLUrdp4wxmyk3QU9zxjasw/sTRBZsNVSuSaofKO/tXtwyi4elomywD0S37dWtOz2Dl1j2By4qDblC6Rsv9jx3V7mrq/F7v0/MoN3X3a6MuiTFd2uz3u2xhw2x7Iho8adx7osy+8MbMKHn+g0Sd9aJ7/3ml8K2J2wDAN+1WFLr2gCOoA+G3sijKtUt7M+O8mFzntDemijub0OYl7jaXjahIbnvn1b6rY25759Wx35N9huIrwz22CJs+Rh0jyIKTJtTvOF3GAWbKTdBT3PGNq3rXsyaxk56GXyejOiSoVmTBILeuo+2+UTuB575dR7qBx6/T7sc989h5X5OyBw1gzymF85dmUR0S7fJeb37rKDf1q2rV7uZIzvm68zIH0Q1mLKkO+XbmbVwSXMbly0RkvzTuPaaDmX4xs588/6b8Ona6wV/37zWNwTrnLrQwJIBfCF06XA0cXPYbwNQ99NXVVRE6g0UUZwNFm5e421w2oqLRrY4JWnEahn2GYuM9Njv9ttvSoMsD7RyfnGoumCDZnJ7B+BNHAQzW54MpMig3QU9xd+492TMY2ppXqS0h8utktOYVrli8KNIyB12aCgDdJRNAOx9kENPlUu7fF6Q1p3DlkkU9s6/d3NcjKO2HW3VIcP7SrG9aDqd8QUtPdUtJHrp9TeiSYFuWtZZx+TIR2S+te8/YSAMHtt6Cb03cpt3Yzy9mKvTGtiTvhX7xdfzxo3jNZ6DWu+LJiTX9zDLxG1yuVgQP3b5GW977HzvqO4ApAsYNC8SZTWjzEneby0ZUNGmtEuK9v7h4j82Od4ygCLY/fXzBxESgPQaz/enjOZUoH5zBTLkJeoqb9RIi3fu+NtPCkYduDf35oFnETuBxd9Tds7B0E7NNzjVKAvzpCy1MffxWrPn4H+H8pd6fqbtyirlnsQUNXl+5ZFHPzDF3oI37lDdsFp1NT5DLunyZiOyW570nKK9/oxPDky6P7kGwn9k5hft2HemuiHLPAO53RkxFBPNKBZ6fE6N0s12mL7TwqbvW5XLtTJf3lmEZcJg4swltXuJuc9mIiibPVUJkJ95js+Vuu12/dU/OpQmnS6UWlGKtjDjAbKFBaNQD7Z3fHzl4asEAq/MUVzewmdYSIl0jQqGduzHoGngHO/14A4/7hqnLDWlyrlEC2pBI4M35oqf8Thl15WuEPAgwWXoaNlCsq/M4y1rTxOXLRJSHvO49upjZqNeMUyQFiZK32I/TrtDFFOe9hzT59IK4czvrhD38vaZey+XamT6ctekhrp+k2slxdny3eYm7rmxDIoF7fGRhUPo2VB5p7QfEPkNx2Xz/p/SJAH5NRqZgXogpMiyjS7FQtl2tJ6ea2H24uWBwWQDccWM76Ga9hCgoJUTQNdAtgfUKCjxxz3VyqokhzR3N72hYJ/pCa973HIPKpzsv01nocZca8QkyEVF+0ozRunaQe5VNFN6Y4k4B8smP3mCUDsqt34e/YfWUZvon05hr8zLgJNvJcXZ8t3mJu64tO6dUrn2KQenbUAlluB8Q2c/m+38ZudtDNqgt8h86dY7rxpkHbfyZM5gtY9vMzLTo8jc6GydkvYTIed9tTx333XjH7xqELYF1hAWeKOfqTsWh21CpVq3gjhsb2H/iTOTdV/0+Z2Hl083+CZuFPjnV1JbP6ZzrZrzwCTIRUX7SjNG6dtCbFg2hVq0s+F51SABBT847r+b0TM8MTie+zLTmujuD1zWb7zlMO5K6GFURwY7NawGgZ3Ncp0xpzhw2fTibx0Nc0xmuSbeTo84mtHmJu8kM/Tz6FIPSt6FyCdoPiJ/bwWTz/b9sTFaIZ+1Caz7wuK4lOmjPpTjAbJlBmZlpcp55LCG6OOt/4wB6y2yS/7hhGHi85+o8sXMHL2DhYK7fzcrpvI6NNPDg5DF86eCpwN/rpbsuumsRd/DZCRo619Rrvh3t8SeOdh8CeAfY+QSZiCg7acXooD0R/PIWA2YpL9wzJw+9dBa7Dze78WVOKdSqldBljmGzWx261AvO4LJuEFk3EHfvriPY9tRxbNu0pq86X1IdwoxPB2lJdeGsnKs0A+1pPcSNMrAe9mA6CzYvcXeXTTfrK+s+xaD0bahcdPeaqJN3qFxsvv+XSZR9prKim9znNB0bAenjBgkHmC0zKDMzsz5Pk5kxJjkT3cKWwLo7olFyz+k6Wu2OYfCNdl6p7vs++uzpwNf6Mal/9yxqZ9ZXo17D3Tdfi/0nzizYWGnH5rW+571+Yp/2XNwzoHs2dJpT3U6vwuUbvelAPhER2S2ofeDXsXMvs39zbRFef2NWu/kf0B6w9Xv4OtOaC4yxlZDRZ2+cd1YSmcQ/ZzZnULtieqaF8cePAog/m1n3EP2N1nz3ofZVtSq+d3G25zXVof5zj+qYznCdnGpqO3hlaycnwZY+hS3lIIqionlgGRYLiKh/Nj6ADJuhvGH1ct/25YbVy1Mrk42Yg9kyg5LbJ8vzNM39FjVnoq5h7J5FHOX3O3QdLZMdSN1lirpxkWneZ+dc3L+jOT2DLx081XOOALq5Lg9svaVbJ0F17dSdSWBxBpfd701ERMUVpX3gja/nLrQAAeq1auI57+aUCtyPwRvndx9uYnzjKuP45wxEB3GWZ8elG3d3yqzQHsie83nhlUsWpRZnTWe47tx7Ujt7qGzt5CTY0qewpRxEUej6UVH7V0QUXREfQDqpXk2PlxUHmC0TZ8ORIsryPE03qzEdMHb4NZirQ4I31xbhvl1Hupvz6H7/9qeP+/6+uE/svDsbR3nCblr/UZarBG0IpKvrRmeGWtBrvGx8wklERPFEaR/oVrp8741ZfOqudZGXJdZr1cBN/9xxzb35jN9mv7oYGLQ5btCGww6TmOcu27rtz2DkE8/0vUnOtMFD7riC6sRNd+4KyeSoLhtb+hS2lIMoCl0/ijOYidJn0h6yDdNBtTFFhoUGJbdPVudp+scelDPRJP/wVbUqzl+a7c40dmbx6gZkz11oYXKq2fPeuqWEoTwP1LfctMIoB7MzA9gv77O3bFFvkLrX6+raPUDu9xo/RXzCSUREeqbtA12MmVMK9+06gve9YxnOnr9k9GC0Vq1g26Y1AKDdpNb5nd5UVroZbX7lC4p/zjnf/9hR7XuGxTxv2YI2LYwizVhr0iZwysD8htHY0qewpRxEpjiDmSg/3nGWIvzVMR1UG2cwU+mZzoyJM8NibKTRTQFxxZsW9exk7+xOr+M3uynuEzvv0tmHx9binpuv7f5+AVAZWlgW76Z7YWk8ot4gda83qWvva5YOV1HVlJ+IiAZPUExSAP7PC2dxx42NwJlo3hjkxHXdoOU19Zrxap76cLXnWFj8Gxtp4JMfvQHVSm+ZTfIgR1lpVBFBrRreFUg71pq2v5hqgYiyoosBfKBFlA33OIsNdEM6znG2Udo4g5lKz3RmDGA2w0K3YV/QTCodv59xfv+9u44ElsPk/R4eW4uHx9aGlj1o0yF3fZjOKgbCb6gmde19TZTNEomIqNzCYpJCO/fdJz96Q6QVSrr3duLafYbxWRf+w+Kf873tTx/vroqq16rYtmlNaMwzWWkkQLfD5p3xDLQHsq9csgjTF1rdWAsgdJVTP0zbBADYDiCi1EXpPxJR+enadM5xtlHaOMBMpef+Y29Oz6AisiA3YpQ/em9HzL2ZXdDSzfMXZ32XqQbN8NUt0XWenMdZgqHrwJmmETEZ/BYgtRsql1gSEZHDJKXEy9MzsRr9QT8TlELD7TWfuG/6oDRuvDNJs+VuK5jUjV/bZ/zxo9j+9PEFg9BZxGe2A4goCxwsIiK3hkGaLrZROMBsJc7STJ5Tf7rBYdP6DdowMOxJd9Sn4FHfrzokuHBpFiu37on8uYmaM0jQk/IZwOV8zkRExHieBac+79t1xDcuOXEsTqNf9zNx9wgIekid1OcirGy1agUbVi/vmY0cFLt9N1OcVz17TiR5HkREeeNgERE5xjeuwvjjR9Gav9zaNEldNmg4wGyZLDofNsij0x00OGz6u3UzfZvTM9i59yTuuLGB/SfOaM8rqdlT3vfTbTDofh8/znVoTs/0DBrrBsB37j2pTbQfd4CbiKhsBiWepyFqG2FspIFDL53FIwdPBcaxpNoe3vhcH67i9TdmF3Q6/GJoEu2QqGW7qlaFCLozjTesXo7dh5vaz6VfHZmk3Uj6PNLEBz9EZIL3CiJawJuHWb/V1sDiALNlsuh85C2vTndYGgiTRkTQ0tPm9Ax2H25qczomOXvK+731E/t6UnCEfW6810FXbQ+4AAAc7ElEQVTh8szkRkAjKqijydlMRERtgxDP0xC3jfDw2FqMXrdMG8eTbnvE2SMgqB2S5EBGUNshaM8FwH+l11W1qm+aL7/zsB0f/BCRCd4riMht596TaM0tnGbXmlNs13twgNkyprlwiyyvTndQGgjTRkTY0tO8Bg/ifG78roMzuBy0VNYkvyPAgRQiGmyDEM/T0E8bIWhgNe22h8lDZF38rA9XMxvICFqJ5ZfLeqY1hyXVIdSqlcgpQWzEBz9EZIL3CiJyY7vezFDeBaCFdI3zIjTaTeX1xzm+cRVq1cqCY84S1qBGhNvYSAN33NgIXA2Rx00mzucm7nXwq8eov4OIqOwGIZ6nIa02gg0dA107RCkYtUGSEPT5022UOH2hhR2b16JRr0EA1GtVVCsLW0Jh+0rYwobPARHZj/cKInJju94MB5gtEzQIWhZ5/XGOjTQWdJAa9Vo3nUWURsT+E2e0OYiBfG4ycT439eGq7/Gw8vvV49KY70VEVFaDEM/TkFYbwYaOga4d8pom/YQ7hdf6iX1YuXUP1k/sw+RUM3YZojwkdlxTr2FspIEDW2/BtyZuw5GHbsXOO2/wbU/ZzobPARHZj/cKInJju94MU2RYxmRjt6LzSzOR1R+nbglrUPoMr6An10mcR5w8jFE/N5NTTd8ObbVithOqX+5J3TXlBhlENIgGIZ73Qxcb0moj5Nn2cPNrhzib7XopAOu2P4Pzl2a7ef+SyB0d9Du9dHUUZ18JG9jyOSAiu/FeQURubNeb4QCzhYraaDdl4x9nlEaEbjC6ItL3DJ5+NpSI8rnZ/vRxzPtMw64OSd8dVvc1Bfw3DHL/DBFRWZU9nsdlEuuSbiPY2PZwBO3v4Le5Xr95QJ3P5fqJfYGDzEuHq3jo9jVW1FFSbP4cEJE9eK8gIi+268NxgJkiSWo2qm1/nFEaEbrB6CQGl3Ub7CS9ocS5C/7LcS+05mO/p981Ddqt3qbrT0RE2QnbPCmtNoJtbQ9H1FnFwML0GXHbZWEbFw8vXmRlffmJUg+2fg6IyC68VxARRcMBZjLWz+xaWwR1QEwbEWk80XbqVrfBTlE3lLBhgwym6CAisktescHmeOC0QVZu3RO4z4Pjmnqt73aZ85p7dx3x/X4WsTqJa1KG9ikRERFR0XGAmYyFzTgylVcHL8kOSNJPtP3q1i3pDSXqtarvsltBu56SOrcoua3TwE4nEZF94saGftoPRYkHurpxE7TLn8Sqp7GRhnbmdNqxOqlrklT71KS8tj6gICIiIsrbUFpvLCKfF5FXReTrrmPLROSPReQbnf8vTev3U/KSmHHkdCaa0zNQuNyZ6GdHdFNBHZC8BdWh6cZ7UWzbtAbVIek5roBEr0feu63afM2JksSYS0USJzb0234oSjzwq5vqkGDpcBVAe3DZGVJOatVTXrE6qWuSxYz4PNuvZBfGWyIiIn+pDTAD+AKAH/cc2wrgT5RSPwDgTzr/poLQzWSJMsMlzw6eDekadILq8IoUciCOjTSw8yM3oCK9g8xJXo+xkQZ2bF6LRr0GAdCo1/rOVR2FzdecKGFfAGMuFUSc2NBv+6Eo8cCvbnZ+5AZMffxWNOo14/QZ/f7OLGJ1UtckifZpmKI8oKBMfAGMt0RERD1SS5GhlPozEbnec/jDAD7Q+fqLAL4C4FfTKgMlS7e5XZQZLlE7E0kuR8w7XUOQ8Y2rtDkQX/NJZZGEsZEG7ksw76LuWuW5QYbN15woSYy5VDRRY0O/g5Gm8cCGNAi6ujE517gzj5OO1Sb1mFSMTqJ9GqYoDygofYy3RERE/tKcwezn+5VSrwBA5/9v1b1QRH5WRA6JyKEzZ85kVkDSS2KGS5RZJkkvR8w7XUOQsZEG6rWq7/fSHAyNM+tncqqJ9RP7sHLrHqyf2IfJqaa1S0dtvuZEGTCKuYy3VAT9zlI1iQe2xjKH7lwrIonOPPaL81F/3qQek4rRWczAzmKWNBUa+7hERDTwrN3kTyn1GQCfAYDR0VGTFYGUgX5nuESZZZL0pi3Oz+Q9M0ln26Y1qc/A8Yo660e3Ic+S6lAmG+xEZfs1J7IB4y0VQb+zVE3iQVabxcWlq4MkB1OT2HjPtB6TjNFpr5bKYpY0DQbGXCIiKqusB5i/IyJXK6VeEZGrAbya8e+nnEXpTKSxHDHPdA1h8hgMjfo7dZ1G7zGHDUtHbb7mRCljzKXSSCJGhsUD29MgZNFOSGKQPUo9FiVG84E1hWC8JSKigZf1APNTAD4GYKLz/9/L+PeTBUw7E4OYPzePjlaU35nUxjtElAnGXCqVtGNkEdodaddBEoPsRajHOIoyGE65YLwlIqKBl1oOZhF5FMBfAlglIt8WkZ9BO+j+mIh8A8CPdf5NKek3h17emD/XX57XVdc5rNeqvFZEOWLMJepfHu0O29pqSeQaLmv7zbZrRflgvCUiytZw1X/YUnec8pPaDGal1BbNtz6Y1u+ky5LIoZc3Lkfs1e91NdnVPYguB+G2TWsA8FoR5YUxl6h/Wbc7bGyrJZFr2KQe+22PZM3Ga0X5YLwlIsrWyLV1HHjhrO9xsou1m/xRf2zfqMaUjcsR++0U9fPz/VzXJDpHYZ1G264VERFRFEm3O4Jivo1ttaQG2YPqMUp7xJaBaBuvFRER0SD4Pz6Dy0HHKT8cYC4p2zeqsUXUjksSM4ij/rxTRr98hg6T65pU58iGQX9bOpxEREQ6D04ewyMHT0F1/u2N+Wm31eLGSnecd97jvl1HEou3pu0Rm2YN29quZnuIiIjKTkU8Tvlh0pKSSiKHnq2SyoHndFya0zNQuNxxCXq/oE6Riag/7y5jEJPramvnKKo4142IiChLk1PNBYPLDnfMT7OtlkSsTCvemrZH+m1zmTJpV9rYrmZ7iIiIysodm6k4OMBcUmXeYCWpxnScjku/g7RRf96vjF6m19XGzlEcWXU4iYiI4tq596R2Zo0T89NsqyURK9OKt6btkSwejJu2K21sV7M9REREZeSNzVQcHGAuqbGRBnZsXotGvQYB0KjXsGPz2sIvm0uyMR2n49LvIG3UnzfpRJleVxs7R3GUZSY2ERGVl0lbIs22WhKxMq14a9oeyeLBuGm70sZ2NdtDRERURiaT7MhOzMFcYjbkyk1ako3pa+o139QTQR2XfndXj/rzujI6GvVaYhv0FUWc60ZERJQlXawSYEHMT6utlkSsTCvemrZH+m1zmYjSrrStXc32EBERlREflBYXB5jJSrpNS5JsTMfpuPQ7SBv15/3KaFpW3e+3qXMUhXuzQ8HCpP5FnIlNRETl5Re/BcDdN1+bSRxOYnC23/cI2oDOpD2SxYPxrAZp09iML4sBeCIioqyFTbJz/MBbr8igNBQFB5jJOkG7hifZmI7bcel3kDbKz7vL2JyeQUUEc0qhUdDZx3F5PxMK6A4yD1pdEBGR/fJeNZTE7+/nPYLaclHLkGadZTFIm1RdeOX9GSMiIkpD0CQ7t5ve/paMSkSmRCn702aPjo6qQ4cO5V0Mysj6iX2+T6wa9RoObL0l1iyQNGaODJKg+suibsM+E0S2EJHDSqnRvMsRF+MtUfoGoU1iW9xOsh0T9fW21UWZMOYSEZWTO9bqRiwrInhhx09kWq5BZRpvOYOZANjV2QnLhxd1NkvUmSM21YUNguoPQCqzcry4kQ0REZVBWrNZk5JUG8imuB1W51HalXGun011kTS2mYmIKC9zBZgsO2iG8i4A5c9pLDc7T4ecxvLkVDOX8iS9a7jpDuGAfXVhg6D6i1K3/chiJ3kiIqK0ZRU340iyDWRT3E6yzuO8l011kSS2mYmIKA3e+ELFwQFmsq6zM75xFWrVyoJj/eTDizJzxLa6sEFQ/WU1KyfpzwQREVEebJ7NmmQbyKa4nWSdx3kvm+oiSWwzExFRGvziCxUDB5jJus7O2EgDOzavRaNeg6Cdo27H5rWxl9xFmTliW13YIKj+spqVk/RngoiIKA82z2ZNsg1kU9xOss7jvJdNdZEktpmJiCgNjCPFxRzMhGvqNd/NR/Ls7CS5a3iUHcJtqAvb8tmF1V/au6870t5JnoiIKG1R2iRZS7oNZEvcjlLnYW2wuNfPlrpIkg1tZiIiKh9dfPFaXJEMSkNRcAYzlXbpniPKzJG868LGfHZB9VfWWTlERERpsDlu5t0GSotpnZu0wWy+flkr6+eFiIjy5Rdf/Hz03SsyKA1FIaoAOy+Ojo6qQ4cO5V2MUrNt1mye8qyL9RP7fJ/WNeo1HNh6SyZlIKL4ROSwUmo073LExXhLNNgGuT3INlh0eX9eGHOJiMrJHV+GRDDnM27J+Jwd03jLFBkEoJxL9+LKsy6Yz46IiIjyMsjtQbbBohvkzwsREaXHHV9Wbt3j+xrGZ/twgJnIIlHy2eU9a4SIiIgoCTa0aZhTmIiIyD6Mz8XBHMxEFjHNZ2djrmYiIiKiqGxp0zCnMBERkX02rF4e6TjlhwPMRBYx3Txm596TC3YwB4CZ1hx27j2ZYWmJiIiI+mNLm4Yb+BEREdln/4kzkY5Tfpgig8gyJvnsmCeQiIiIysCmNg1zChMREdnFpnYCBeMAM1GAJHICppFXkHmIiIiIyIQN+Y2DFKVNY3s9EhERlVFR2gnEFBlEWknkBEwrryDzBBIREVEYW/IbBylCm6YI9UhERFRG17/FfyBZd5zywwFmIo0kcgKmlVeQeQKJiIgojC35jYMUoU1ThHokIiIqo4PfPBfpOOWHKTKINJLI9ZNmviDmCSQiIqIgRclbaHubpij1SEREVDZzSkU6TvnhDGYiDV1Onyi5fpJ4DyIiIqI42A5JBuuRiIgoHxWRSMcpPxxgJtJIIidgEfIKEhERUTmxHZIM1iMREVE+tty0ItJxyg9TZBBpOEs1+9kxPIn3ICIiIoqD7ZBksB6JiIjy8fDYWgDAo8+expxSqIhgy00rusfJHqIKkLdkdHRUHTp0KO9iEBERBRKRw0qp0bzLERfjLRERFQVjLhERUfpM4y1TZBARERERERERERFRLBxgJiIiIiIiIiIiIqJYOMBMRERERERERERERLFwgJmIiIiIiIiIiIiIYuEAMxERERERERERERHFwgFmIiIiIiIiIiIiIoqFA8xEREREREREREREFAsHmImIiIiIiIiIiIgoFlFK5V2GUCJyBsBLeZcjQd8H4G/zLkRBsK7MsJ7Msa7Msa7MuOvpOqXU8jwL049OvD2Pcl73sn6ey3heZTwngOdVNGU8r7KdUxlibpn6uFko22c4T6zL5LAuk8O6TE6SdWkUbwsxwFw2InJIKTWadzmKgHVlhvVkjnVljnVlpmz1VLbzcfC8iqOM5wTwvIqmjOdVxnOiwcLPcHJYl8lhXSaHdZmcPOqSKTKIiIiIiIiIiIiIKBYOMBMRERERERERERFRLBxgzsdn8i5AgbCuzLCezLGuzLGuzJStnsp2Pg6eV3GU8ZwAnlfRlPG8ynhONFj4GU4O6zI5rMvksC6Tk3ldMgczEREREREREREREcXCGcxEREREREREREREFAsHmImIiIiIiIiIiIgoFg4wZ0xEKiIyJSK/n3dZbCYiL4rIMRE5IiKH8i6PzUSkLiJPiMgJEXleRN6bd5lsJCKrOp8n57+/E5F78y6XjUTkPhE5LiJfF5FHRWRJ3mWylYj8Uqeejpfh8yQiPy4iJ0Xkb0Rka97lSUJZ4omIfF5EXhWRr7uOLRORPxaRb3T+vzTPMsahOa9tItJ03a9/Is8yxiEiK0RkfycuHxeRX+ocL+w1CzinQl8vEVkiIn8lIkc757W9c3yliDzbuVa7RGRx3mWNIuC8viAi33Jdr3V5l5XIj198cH3vV0REicj35VG2otHVpYj8206777iI/Ie8ylckmnbLOhE56LQ1ReQ9eZaxCMrYTspLQF3u7IwRfU1EfldE6qmXhTmYsyUivwxgFMCblVIfyrs8thKRFwGMKqX+Nu+y2E5Evgjgz5VSv93p/AwrpabzLpfNRKQCoAngJqXUS3mXxyYi0gDwFwB+UCk1IyKPAfgDpdQX8i2ZfUTkhwB8GcB7AFwC8EcAfl4p9Y1cCxZT5+/i/wL4MQDfBvAcgC1Kqb/OtWB9Kks8EZH3A3gdwP9USv1Q59h/AHBWKTXReSCwVCn1q3mWMyrNeW0D8LpS6j/mWbZ+iMjVAK5WSn1VRP4egMMAxgD8cxT0mgWc00dR4OslIgLgCqXU6yJSRTsG/hKAXwbwpFLqyyLy3wAcVUr9Vp5ljSLgvH4OwO8rpZ7ItYBEIfziQ+f4CgC/DWA1gBuLHt+zoIm1GwD8OoDblFIXReStSqlX8yxnEWjq8hkAn1JK/WHnIeu/U0p9IMdiWq+M7aS8BNTl2wDsU0rNishvAkDadckZzBkSkbcBuA3tgEjUNxF5M4D3A/gcACilLnFw2cgHAbzAwWWtRQBqIrIIwDCAl3Muj63+IYCDSqkLSqlZAH8K4J/kXKZ+vAfA3yilvqmUuoT24PmHcy4TdSil/gzAWc/hDwP4YufrL6LdmCwUzXkVnlLqFaXUVztffw/A8wAaKPA1CzinQlNtr3f+We38pwDcAsAZhC3UtQICz4uoEALiw6cA/Dvw82xMU5c/D2BCKXWx8xoOLhvQ1KUC8ObO11eBfadQZWwn5UVXl0qpZzp9VAA4iPaAc6o4wJytT6MdDOfzLkgBKADPiMhhEfnZvAtjsbcDOAPgf0g79cpvi8gVeReqAH4SwKN5F8JGSqkmgP8I4BSAVwC8ppR6Jt9SWevrAN4vIm8RkWEAPwFgRc5l6kcDwGnXv7+NEgweodzx5PuVUq8A7cYlgLfmXJ4k/UJnSd/ni748UkSuBzAC4FmU5Jp5zgko+PWSdgq7IwBeBfDHAF4AMO3qmBXyfug9L6WUc71+o3O9PiUib8qxiESRiMgmAE2l1NG8y1IC/wDAj3RSAf2piLw77wIV2L0AdorIabT7UQ/kXJ5CKWM7KS8+7TPHTwP4w7R/PweYMyIiHwLwqlLqcN5lKYj1Sql3AfjHAP5NZykK9VoE4F0AfkspNQLgPIBS5E1NSyeNyCYAj+ddFht1BgY+DGAlgGsAXCEi9+RbKjsppZ4H8JtoD0b8EYCjAGYDf8hu4nOsDLODGE+K57cAvAPAOrQfdH0y3+LEJyJXAtgN4F6l1N/lXZ4k+JxT4a+XUmpOKbUO7dk970F7hUrPy7ItVf+859VJ7fQA2qkF3g1gGQAuPaZC6DzM/3UAH8+7LCWxCMBSADcDGAfwWCe1DkX38wDuU0qtAHAfOquLKVwZ20l50dWliPw62n3UR9IuAweYs7MewKZOLsgvA7hFRL6Ub5HspZR6ufP/VwH8LtqNfer1bQDfds1IeQLtAWfS+8cAvqqU+k7eBbHUPwLwLaXUGaVUC8CTAN6Xc5mspZT6nFLqXUqp96O9XK6Q+Zc7vo2FM7DfhhIs8St5PPlOJ++ak3+tFMtblVLf6QyMzQP4LAp6zTp5b3cDeEQp9WTncKGvmd85leV6AUAnzdhX0B5wqXdSRQEFvx+6zuvHO0tpVWdZ/P9Aga8XDZx3oD0B4minT/02AF8Vkb+fa6mK69to55lXSqm/QnuVNTdNjOdjaPeZgPYkJt5XDZSxnZQXTV1CRD4G4EMA7lYq/Q34OMCcEaXUA0qptymlrkd7ef4+pRRnBfoQkSs6ycnRSfdwK9pL0clDKfX/AJwWkVWdQx8EUOgNuTKwBUyPEeQUgJtFZLgzi+GDaOdxIh8i8tbO/68FsBnF/mw9B+AHRGRlZ6b/TwJ4Kucy9WUA4slTaHdq0Pn/7+VYlsQ4HYuOf4ICXrPO/fNzAJ5XSv0n17cKe81051T06yUiy6Wzs7qI1NB+0Po8gP0A7uy8rFDXCtCe1wlXx13Qzm1ZqOtFg0spdUwp9Val1PWdPvW3Abyr0x+i6CbRzjUPEfkHABYD4IaJ8bwM4Ec7X9+CYk84yUQZ20l5CWif/Tjaq5Q2KaUuZFKWDAaxyUNEPgDgV5RSH8q7LDYSkbejPcsMaC/d+V9Kqd/IsUhWE5F1aG8cuRjANwH8lFLqXL6lslNnad1pAG9XSr2Wd3lsJSLbAdyF9lKaKQD/wtkAhBYSkT8H8BYALQC/rJT6k5yL1JfOztefBlAB8Pmi33vLFE9E5FEAH0B7dtF3ADyEdufwMQDXov1w6CNKqUJtmKc5rw+gnW5BAXgRwL9y8vEVhYj8MIA/B3AMl/fe+DW0c+IV8poFnNMWFPh6icg70d5IqIL25JvHlFKf6Nw/vox2GokpAPcUKRYGnNc+AMvRTot0BMDPuTYDJLKGX3xQSn3O9f0XAYwqpTgoGkITa38HwOfRvn9fQnt8Yl9eZSwKTV2eBPCf0W5rvgHgXzM1arAytpPyElCX/wXAmwB8t3PsoFLq51ItCweYiYiIiIiIiIiIiCgOpsggIiIiIiIiIiIiolg4wExEREREREREREREsXCAmYiIiIiIiIiIiIhi4QAzEREREREREREREcXCAWYiIiIiIiIiIiIiioUDzEREREREEYnI6yHf/zXD9zF6HRER0aASkXtFZDjGz/1zEbnG9e/fFpEfTLZ0RAQAopTKuwxElBEREbT/7ufzLgsREVGRicjrSqkr434/6uuIiIgGlYi8CGBUKfW3Pt+rKKXmND/3FQC/opQ6lG4JiYgzmIlKTkSuF5HnReS/AvgqgDkR+U0ROSwi/1tE3iMiXxGRb4rIprzLS0REVCQicrWI/JmIHBGRr4vIj4jIBIBa59gjnddNdmLvcRH52c6xntcRERENqk7f9YSIfFFEviYiT4jILwK4BsB+Ednfed3rIvIJEXkWwHtF5OMi8lwnDn9G2u4EMArgkU6crXX6vaOd99giIsc6P/ObuZ00UUlwBjNRyYnI9QC+CeB9SqmDIqIA/IRS6g9F5HcBXAHgNgA/COCLSql1uRWWiIioIJyZxyJyP4AlSqnfEJEKgGGl1Pe8M5NFZJlS6qyI1AA8B+BHlVLf5QxmIiKitk7f9VsAflgpdUBEPg/grwH8AlwzmDt92ruUUo91/r1MKXW28/XvAHhMKfW0dwaz828ALwM4COBGAOcAPAPgvyilJjM6VaLS4QxmosHwklLqYOfrSwD+qPP1MQB/qpRqdb6+PoeyERERFdlzAH5KRLYBWKuU+p7mdb8oIkfR7tCuAPADGZWPiIioSE4rpQ50vv4SgB/2ec0cgN2uf28QkWdF5BiAWwCsCfkd7wbwFaXUGaXULIBHALy/z3ITDTQOMBMNhvOur1vq8tKFeQAXAaCTl3lR1gUjIiIqMqXUn6HdKW0C+B0R+Wfe14jIBwD8IwDvVUrdAGAKwJIsy0lERFQQ3mX2fsvu33DyLovIEgD/FcCdSqm1AD6L8BgrfZeSiBbgADMRERERUUwich2AV5VSnwXwOQDv6nyrJSLVztdXATinlLogIqsB3Ox6C/friIiIBt21IvLeztdbAPwFgO8B+Hua1zuDyX8rIlcCuNP1Pd3PPQvgR0Xk+zrprbYA+NO+S040wDhbkYiIiIgovg8AGBeRFoDXATgzmD8D4Gsi8lUAPw3g50TkawBOop0mA97XKaXuzq7YREREVnoewMdE5L8D+AaA30I7zeMfisgrSqkN7hcrpaZF5LNop3x8Ee3UVY4vAPhvIjID4L2un3lFRB4AsB/t2cx/oJT6vfROiaj8uMkfERERERERERHlqrPJ3+8rpX4o56IQUURMkUFEREREREREREREsXAGMxERERERERERERHFwhnMRERERERERERERBQLB5iJiIiIiIiIiIiIKBYOMBMRERERERERERFRLBxgJiIiIiIiIiIiIqJYOMBMRERERERERERERLH8f1bVa/us5qpRAAAAAElFTkSuQmCC\n",
      "text/plain": [
       "<matplotlib.figure.Figure at 0x1119e7ba8>"
      ]
     },
     "metadata": {},
     "output_type": "display_data"
    }
   ],
   "source": [
    "# Your code here "
   ]
  },
  {
   "cell_type": "code",
   "execution_count": 6,
   "metadata": {},
   "outputs": [],
   "source": [
    "# Your observations here \n"
   ]
  },
  {
   "cell_type": "markdown",
   "metadata": {},
   "source": [
    "## Create Evaluation Metrics\n",
    "\n",
    "- Create a function `performance(true, predicted)` to calculate and return the r-sqaured score and MSE for two equal sized arrays showing true and predicted values\n",
    "- TEst the function with given data "
   ]
  },
  {
   "cell_type": "code",
   "execution_count": 1,
   "metadata": {},
   "outputs": [],
   "source": [
    "# Evaluation Metrics\n",
    "# Import metrics\n",
    "\n",
    "def performance(y_true, y_predict):\n",
    "    \"\"\" Calculates and returns the performance score between \n",
    "        true and predicted values based on the metric chosen. \"\"\"\n",
    "    \n",
    "    \n",
    "    # Your code here \n",
    "    \n",
    "    \n",
    "    pass\n",
    "\n",
    "# Calculate the performance - TEST\n",
    "score = performance([3, -0.5, 2, 7, 4.2], [2.5, 0.0, 2.1, 7.8, 5.3])\n",
    "score\n",
    "\n",
    "# [0.9228556485355649, 0.4719999999999998]"
   ]
  },
  {
   "cell_type": "markdown",
   "metadata": {},
   "source": [
    "## Supervised Training \n",
    "- For supervised learning, split the `features` and `target` datasets into training/test data (80/20). \n",
    "- For reproducibility, use `random_state=42`"
   ]
  },
  {
   "cell_type": "code",
   "execution_count": 11,
   "metadata": {},
   "outputs": [],
   "source": [
    "# Your code here "
   ]
  },
  {
   "cell_type": "markdown",
   "metadata": {},
   "source": [
    "## Grow a Vanilla Regression Tree\n",
    "\n",
    "- Run a baseline model for later comparison using the datasets created above\n",
    "- Generate predictions for test dataset and calculate the performance measures using the function created above.\n",
    "- Use `random_state=45` for tree instance\n",
    "- Record your observations"
   ]
  },
  {
   "cell_type": "code",
   "execution_count": 18,
   "metadata": {},
   "outputs": [
    {
     "data": {
      "text/plain": [
       "(0.47097115950374013, 38.795686274509805)"
      ]
     },
     "execution_count": 18,
     "metadata": {},
     "output_type": "execute_result"
    }
   ],
   "source": [
    "# Your code here \n",
    "\n",
    "# (0.4712438851035674, 38.7756862745098)  - R2, MSE"
   ]
  },
  {
   "cell_type": "code",
   "execution_count": 25,
   "metadata": {},
   "outputs": [],
   "source": [
    "# Your observations here \n"
   ]
  },
  {
   "cell_type": "markdown",
   "metadata": {},
   "source": [
    "## Hyperparameter Tuning \n",
    "\n",
    "- Find the best tree depth for a depth range: 1-30\n",
    "- Run the regressor repeatedly in a for loop for each depth value. \n",
    "- Use `random_state=45` for reproducibility\n",
    "- Calculate MSE and r-squared for each run \n",
    "- Plot both performance measures, for all runs.\n",
    "- Comment on the output "
   ]
  },
  {
   "cell_type": "code",
   "execution_count": 31,
   "metadata": {},
   "outputs": [
    {
     "data": {
      "image/png": "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